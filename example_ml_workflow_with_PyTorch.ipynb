{
 "cells": [
  {
   "cell_type": "markdown",
   "metadata": {},
   "source": [
    "# Prepare Data\n",
    "Here we prepare data as 1 min level kline for BTC from 2019.1.1 to 2020.5.2 in bitfinex exchange"
   ]
  },
  {
   "cell_type": "code",
   "execution_count": 1,
   "metadata": {},
   "outputs": [],
   "source": [
    "#!python3 -m pip install -e .. -U\n",
    "import pandas as pd\n",
    "import numpy as np\n",
    "import matplotlib.pyplot as plt\n",
    "from datetime import timedelta\n",
    "from sklearn.metrics import roc_curve, auc\n",
    "import torch\n",
    "import torch.nn as nn\n",
    "import torch.nn.functional as F\n",
    "import torch.optim as optim\n",
    "from torch.optim.lr_scheduler import StepLR\n",
    "from tqdm.auto import tqdm, trange"
   ]
  },
  {
   "cell_type": "code",
   "execution_count": 2,
   "metadata": {},
   "outputs": [],
   "source": [
    "TZ = 'Asia/Shanghai'"
   ]
  },
  {
   "cell_type": "code",
   "execution_count": 3,
   "metadata": {},
   "outputs": [],
   "source": [
    "data_path = './data/data'\n",
    "data_platform_list = ['BITFINEX']\n",
    "data_symbol_list = ['BTC']\n",
    "\n",
    "data_df_list = []"
   ]
  },
  {
   "cell_type": "code",
   "execution_count": 4,
   "metadata": {},
   "outputs": [],
   "source": [
    "for platform in data_platform_list:\n",
    "    for symbol in data_symbol_list:\n",
    "        pkl_file_path = data_path+'/'+symbol+'_USD_'+platform+'_latest.pkl'\n",
    "        pandas_df = pd.read_pickle(pkl_file_path)\n",
    "        #data_df_list.append(pkl_file.add_prefix(platform+'_'+symbol+':'))\n",
    "        data_df_list.append(pandas_df)\n",
    "data = pd.concat(data_df_list, axis=1)"
   ]
  },
  {
   "cell_type": "markdown",
   "metadata": {},
   "source": [
    "# Feature Enginnering"
   ]
  },
  {
   "cell_type": "markdown",
   "metadata": {},
   "source": [
    "Tactical indicators etc."
   ]
  },
  {
   "cell_type": "code",
   "execution_count": 5,
   "metadata": {},
   "outputs": [],
   "source": [
    "data['timestamp'] = data.index.tolist()"
   ]
  },
  {
   "cell_type": "code",
   "execution_count": 6,
   "metadata": {},
   "outputs": [
    {
     "data": {
      "text/html": [
       "<div>\n",
       "<style scoped>\n",
       "    .dataframe tbody tr th:only-of-type {\n",
       "        vertical-align: middle;\n",
       "    }\n",
       "\n",
       "    .dataframe tbody tr th {\n",
       "        vertical-align: top;\n",
       "    }\n",
       "\n",
       "    .dataframe thead th {\n",
       "        text-align: right;\n",
       "    }\n",
       "</style>\n",
       "<table border=\"1\" class=\"dataframe\">\n",
       "  <thead>\n",
       "    <tr style=\"text-align: right;\">\n",
       "      <th></th>\n",
       "      <th>open</th>\n",
       "      <th>high</th>\n",
       "      <th>low</th>\n",
       "      <th>close</th>\n",
       "      <th>volume</th>\n",
       "      <th>timestamp</th>\n",
       "    </tr>\n",
       "  </thead>\n",
       "  <tbody>\n",
       "    <tr>\n",
       "      <th>2019-01-01 16:00:00+08:00</th>\n",
       "      <td>3850.000000</td>\n",
       "      <td>3850.000000</td>\n",
       "      <td>3849.600000</td>\n",
       "      <td>3849.600000</td>\n",
       "      <td>0.443293</td>\n",
       "      <td>2019-01-01 16:00:00+08:00</td>\n",
       "    </tr>\n",
       "    <tr>\n",
       "      <th>2019-01-01 16:01:00+08:00</th>\n",
       "      <td>3849.500000</td>\n",
       "      <td>3853.000000</td>\n",
       "      <td>3849.400000</td>\n",
       "      <td>3853.000000</td>\n",
       "      <td>9.085920</td>\n",
       "      <td>2019-01-01 16:01:00+08:00</td>\n",
       "    </tr>\n",
       "    <tr>\n",
       "      <th>2019-01-01 16:02:00+08:00</th>\n",
       "      <td>3853.000000</td>\n",
       "      <td>3857.000000</td>\n",
       "      <td>3852.960000</td>\n",
       "      <td>3853.200000</td>\n",
       "      <td>8.213360</td>\n",
       "      <td>2019-01-01 16:02:00+08:00</td>\n",
       "    </tr>\n",
       "    <tr>\n",
       "      <th>2019-01-01 16:03:00+08:00</th>\n",
       "      <td>3853.000000</td>\n",
       "      <td>3853.100000</td>\n",
       "      <td>3851.200000</td>\n",
       "      <td>3852.200000</td>\n",
       "      <td>6.385190</td>\n",
       "      <td>2019-01-01 16:03:00+08:00</td>\n",
       "    </tr>\n",
       "    <tr>\n",
       "      <th>2019-01-01 16:04:00+08:00</th>\n",
       "      <td>3852.200000</td>\n",
       "      <td>3852.300000</td>\n",
       "      <td>3852.200000</td>\n",
       "      <td>3852.300000</td>\n",
       "      <td>0.504622</td>\n",
       "      <td>2019-01-01 16:04:00+08:00</td>\n",
       "    </tr>\n",
       "    <tr>\n",
       "      <th>...</th>\n",
       "      <td>...</td>\n",
       "      <td>...</td>\n",
       "      <td>...</td>\n",
       "      <td>...</td>\n",
       "      <td>...</td>\n",
       "      <td>...</td>\n",
       "    </tr>\n",
       "    <tr>\n",
       "      <th>2020-11-07 15:55:00+08:00</th>\n",
       "      <td>15428.349581</td>\n",
       "      <td>15437.000000</td>\n",
       "      <td>15428.000000</td>\n",
       "      <td>15436.374894</td>\n",
       "      <td>1.040375</td>\n",
       "      <td>2020-11-07 15:55:00+08:00</td>\n",
       "    </tr>\n",
       "    <tr>\n",
       "      <th>2020-11-07 15:56:00+08:00</th>\n",
       "      <td>15434.000000</td>\n",
       "      <td>15447.000000</td>\n",
       "      <td>15434.000000</td>\n",
       "      <td>15443.000000</td>\n",
       "      <td>5.073000</td>\n",
       "      <td>2020-11-07 15:56:00+08:00</td>\n",
       "    </tr>\n",
       "    <tr>\n",
       "      <th>2020-11-07 15:57:00+08:00</th>\n",
       "      <td>15441.000000</td>\n",
       "      <td>15446.000000</td>\n",
       "      <td>15441.000000</td>\n",
       "      <td>15446.000000</td>\n",
       "      <td>1.608000</td>\n",
       "      <td>2020-11-07 15:57:00+08:00</td>\n",
       "    </tr>\n",
       "    <tr>\n",
       "      <th>2020-11-07 15:58:00+08:00</th>\n",
       "      <td>15443.786243</td>\n",
       "      <td>15443.786243</td>\n",
       "      <td>15430.460723</td>\n",
       "      <td>15430.460723</td>\n",
       "      <td>0.692501</td>\n",
       "      <td>2020-11-07 15:58:00+08:00</td>\n",
       "    </tr>\n",
       "    <tr>\n",
       "      <th>2020-11-07 15:59:00+08:00</th>\n",
       "      <td>15433.000000</td>\n",
       "      <td>15440.000000</td>\n",
       "      <td>15427.000000</td>\n",
       "      <td>15431.000000</td>\n",
       "      <td>0.066774</td>\n",
       "      <td>2020-11-07 15:59:00+08:00</td>\n",
       "    </tr>\n",
       "  </tbody>\n",
       "</table>\n",
       "<p>945426 rows × 6 columns</p>\n",
       "</div>"
      ],
      "text/plain": [
       "                                   open          high           low  \\\n",
       "2019-01-01 16:00:00+08:00   3850.000000   3850.000000   3849.600000   \n",
       "2019-01-01 16:01:00+08:00   3849.500000   3853.000000   3849.400000   \n",
       "2019-01-01 16:02:00+08:00   3853.000000   3857.000000   3852.960000   \n",
       "2019-01-01 16:03:00+08:00   3853.000000   3853.100000   3851.200000   \n",
       "2019-01-01 16:04:00+08:00   3852.200000   3852.300000   3852.200000   \n",
       "...                                 ...           ...           ...   \n",
       "2020-11-07 15:55:00+08:00  15428.349581  15437.000000  15428.000000   \n",
       "2020-11-07 15:56:00+08:00  15434.000000  15447.000000  15434.000000   \n",
       "2020-11-07 15:57:00+08:00  15441.000000  15446.000000  15441.000000   \n",
       "2020-11-07 15:58:00+08:00  15443.786243  15443.786243  15430.460723   \n",
       "2020-11-07 15:59:00+08:00  15433.000000  15440.000000  15427.000000   \n",
       "\n",
       "                                  close    volume                 timestamp  \n",
       "2019-01-01 16:00:00+08:00   3849.600000  0.443293 2019-01-01 16:00:00+08:00  \n",
       "2019-01-01 16:01:00+08:00   3853.000000  9.085920 2019-01-01 16:01:00+08:00  \n",
       "2019-01-01 16:02:00+08:00   3853.200000  8.213360 2019-01-01 16:02:00+08:00  \n",
       "2019-01-01 16:03:00+08:00   3852.200000  6.385190 2019-01-01 16:03:00+08:00  \n",
       "2019-01-01 16:04:00+08:00   3852.300000  0.504622 2019-01-01 16:04:00+08:00  \n",
       "...                                 ...       ...                       ...  \n",
       "2020-11-07 15:55:00+08:00  15436.374894  1.040375 2020-11-07 15:55:00+08:00  \n",
       "2020-11-07 15:56:00+08:00  15443.000000  5.073000 2020-11-07 15:56:00+08:00  \n",
       "2020-11-07 15:57:00+08:00  15446.000000  1.608000 2020-11-07 15:57:00+08:00  \n",
       "2020-11-07 15:58:00+08:00  15430.460723  0.692501 2020-11-07 15:58:00+08:00  \n",
       "2020-11-07 15:59:00+08:00  15431.000000  0.066774 2020-11-07 15:59:00+08:00  \n",
       "\n",
       "[945426 rows x 6 columns]"
      ]
     },
     "execution_count": 6,
     "metadata": {},
     "output_type": "execute_result"
    }
   ],
   "source": [
    "data"
   ]
  },
  {
   "cell_type": "code",
   "execution_count": 7,
   "metadata": {},
   "outputs": [],
   "source": [
    "# Prepare features\n",
    "import talib\n",
    "\n",
    "# Moving averages\n",
    "data['ma5m'] = talib.MA(data['close'], timeperiod = 5) / data['close'] \n",
    "data['ma10m'] = talib.MA(data['close'], timeperiod = 10) / data['close'] \n",
    "data['ma1h'] = talib.MA(data['close'], timeperiod = 60) / data['close'] \n",
    "data['ma4h'] = talib.MA(data['close'], timeperiod = 240) / data['close'] \n",
    "data['ma12h'] = talib.MA(data['close'], timeperiod = 720) / data['close'] \n",
    "data['ma1d'] = talib.MA(data['close'], timeperiod = 1440) / data['close']\n",
    "data['ma5d'] = talib.MA(data['close'], timeperiod = 7200) / data['close'] \n",
    "data['ma10d'] = talib.MA(data['close'], timeperiod = 14400) / data['close'] \n",
    "data['ma30d'] = talib.MA(data['close'], timeperiod = 43200) / data['close'] \n",
    "\n",
    "\n",
    "# Standard deviation\n",
    "data['std5m'] = talib.STDDEV(data['close'], timeperiod=5)/ data['close'] \n",
    "data['std10m'] = talib.STDDEV(data['close'], timeperiod = 10) / data['close'] \n",
    "data['std1h'] = talib.STDDEV(data['close'], timeperiod = 60) / data['close'] \n",
    "data['std4h'] = talib.STDDEV(data['close'], timeperiod = 240) / data['close'] \n",
    "data['std12h'] = talib.STDDEV(data['close'], timeperiod = 720) / data['close'] \n",
    "data['std1d'] = talib.STDDEV(data['close'], timeperiod = 1440) / data['close']\n",
    "data['std5d'] = talib.STDDEV(data['close'], timeperiod = 7200) / data['close'] \n",
    "data['std10d'] = talib.STDDEV(data['close'], timeperiod = 14400) / data['close'] \n",
    "data['std30d'] = talib.STDDEV(data['close'], timeperiod = 43200) / data['close'] \n",
    "\n",
    "# Closeness to hundred / thousand\n",
    "data['dis100'] = (data['close'] % 100) / 100 \n",
    "data['dis1000'] = (data['close'] % 1000) / 1000 "
   ]
  },
  {
   "cell_type": "code",
   "execution_count": 8,
   "metadata": {},
   "outputs": [],
   "source": [
    "feature_set = ['ma5m','ma10m','ma1h','ma4h','ma12h','ma1d','ma5d','ma10d','ma30d', \\\n",
    "               'std5m','std10m','std1h','std4h','std12h','std1d','std5d','std10d','std30d',\\\n",
    "               'dis100', 'dis1000']"
   ]
  },
  {
   "cell_type": "markdown",
   "metadata": {},
   "source": [
    "## Augment with same features in previous timestamps"
   ]
  },
  {
   "cell_type": "code",
   "execution_count": 9,
   "metadata": {},
   "outputs": [],
   "source": [
    "new_feature_set = []\n",
    "for feature in feature_set:\n",
    "    data[f'{feature}_p1h'] = data[feature].shift(60)\n",
    "    data[f'{feature}_p1d'] = data[feature].shift(1440)\n",
    "    data[f'{feature}_p5d'] = data[feature].shift(7200)\n",
    "    new_feature_set += [feature, f'{feature}_p1h', f'{feature}_p1d', f'{feature}_p5d']"
   ]
  },
  {
   "cell_type": "code",
   "execution_count": 10,
   "metadata": {},
   "outputs": [],
   "source": [
    "feature_set = new_feature_set"
   ]
  },
  {
   "cell_type": "code",
   "execution_count": 11,
   "metadata": {},
   "outputs": [
    {
     "name": "stdout",
     "output_type": "stream",
     "text": [
      "Total feature number 80\n"
     ]
    }
   ],
   "source": [
    "print(f'Total feature number {len(feature_set)}')"
   ]
  },
  {
   "cell_type": "markdown",
   "metadata": {},
   "source": [
    "## Show distribution of return in 1d "
   ]
  },
  {
   "cell_type": "code",
   "execution_count": 12,
   "metadata": {},
   "outputs": [
    {
     "name": "stderr",
     "output_type": "stream",
     "text": [
      "/home/weiyao/.local/lib/python3.6/site-packages/numpy/lib/histograms.py:824: RuntimeWarning: invalid value encountered in greater_equal\n",
      "  keep = (tmp_a >= first_edge)\n",
      "/home/weiyao/.local/lib/python3.6/site-packages/numpy/lib/histograms.py:825: RuntimeWarning: invalid value encountered in less_equal\n",
      "  keep &= (tmp_a <= last_edge)\n"
     ]
    },
    {
     "data": {
      "text/plain": [
       "(array([9.00000e+00, 5.60000e+01, 3.20000e+02, 1.95000e+02, 5.63000e+02,\n",
       "        1.26600e+03, 3.88500e+03, 5.75400e+03, 1.41590e+04, 4.26120e+04,\n",
       "        1.28025e+05, 3.82767e+05, 2.44936e+05, 6.97350e+04, 2.83680e+04,\n",
       "        8.85600e+03, 6.13100e+03, 3.09700e+03, 1.18700e+03, 2.61000e+02,\n",
       "        2.04000e+02, 1.23000e+02, 1.93000e+02, 2.68000e+02, 1.59000e+02,\n",
       "        1.02000e+02, 9.70000e+01, 9.90000e+01, 6.60000e+01, 6.70000e+01,\n",
       "        4.30000e+01, 8.80000e+01, 5.00000e+01, 3.00000e+01, 2.20000e+01,\n",
       "        1.20000e+01, 1.00000e+01, 4.10000e+01, 4.10000e+01, 4.00000e+01,\n",
       "        1.10000e+01, 3.00000e+00, 2.00000e+00, 4.00000e+00, 1.20000e+01,\n",
       "        9.00000e+00, 3.00000e+00, 1.00000e+00, 3.00000e+00, 1.00000e+00]),\n",
       " array([-0.28686676, -0.26269117, -0.23851558, -0.21433999, -0.19016441,\n",
       "        -0.16598882, -0.14181323, -0.11763764, -0.09346206, -0.06928647,\n",
       "        -0.04511088, -0.0209353 ,  0.00324029,  0.02741588,  0.05159147,\n",
       "         0.07576705,  0.09994264,  0.12411823,  0.14829381,  0.1724694 ,\n",
       "         0.19664499,  0.22082058,  0.24499616,  0.26917175,  0.29334734,\n",
       "         0.31752293,  0.34169851,  0.3658741 ,  0.39004969,  0.41422527,\n",
       "         0.43840086,  0.46257645,  0.48675204,  0.51092762,  0.53510321,\n",
       "         0.5592788 ,  0.58345439,  0.60762997,  0.63180556,  0.65598115,\n",
       "         0.68015673,  0.70433232,  0.72850791,  0.7526835 ,  0.77685908,\n",
       "         0.80103467,  0.82521026,  0.84938585,  0.87356143,  0.89773702,\n",
       "         0.92191261]),\n",
       " <a list of 50 Patch objects>)"
      ]
     },
     "execution_count": 12,
     "metadata": {},
     "output_type": "execute_result"
    },
    {
     "data": {
      "image/png": "[encoded data removed]",
      "text/plain": [
       "<Figure size 432x288 with 1 Axes>"
      ]
     },
     "metadata": {
      "needs_background": "light"
     },
     "output_type": "display_data"
    }
   ],
   "source": [
    "plt.hist(data['close'] / data['close'].shift(-1440) - 1,bins=50)"
   ]
  },
  {
   "cell_type": "code",
   "execution_count": 13,
   "metadata": {},
   "outputs": [],
   "source": [
    "data['up_x%_in_1d_label'] = 100 * (data['close'] / data['close'].shift(-1440) - 1)"
   ]
  },
  {
   "cell_type": "code",
   "execution_count": 14,
   "metadata": {},
   "outputs": [],
   "source": [
    "data=data.dropna()"
   ]
  },
  {
   "cell_type": "markdown",
   "metadata": {},
   "source": [
    "## Data Preparation"
   ]
  },
  {
   "cell_type": "code",
   "execution_count": 15,
   "metadata": {},
   "outputs": [],
   "source": [
    "train_start_time = pd.Timestamp('2019-01-01', tz=TZ)\n",
    "train_end_time = pd.Timestamp('2019-12-31', tz=TZ)\n",
    "val_start_time = pd.Timestamp('2020-01-01', tz=TZ)\n",
    "val_end_time = pd.Timestamp('2020-06-01', tz=TZ)\n",
    "test_start_time = pd.Timestamp('2020-06-01', tz=TZ)\n",
    "test_end_time = pd.Timestamp('2020-11-01', tz=TZ)\n",
    "\n",
    "train_data = data.loc[train_start_time:train_end_time]\n",
    "val_data = data.loc[val_start_time:val_end_time]\n",
    "test_data = data.loc[test_start_time:test_end_time]"
   ]
  },
  {
   "cell_type": "code",
   "execution_count": 16,
   "metadata": {},
   "outputs": [
    {
     "data": {
      "text/plain": [
       "2019-02-07 08:31:00+08:00    0.129501\n",
       "2019-02-07 08:32:00+08:00    0.129501\n",
       "2019-02-07 08:33:00+08:00    0.126593\n",
       "2019-02-07 08:34:00+08:00    0.127758\n",
       "2019-02-07 08:35:00+08:00    0.130662\n",
       "                               ...   \n",
       "2020-11-06 15:52:00+08:00    1.695903\n",
       "2020-11-06 15:53:00+08:00    1.696562\n",
       "2020-11-06 15:54:00+08:00    1.696232\n",
       "2020-11-06 15:55:00+08:00    1.882894\n",
       "2020-11-06 15:56:00+08:00    1.833971\n",
       "Name: up_x%_in_1d_label, Length: 893587, dtype: float64"
      ]
     },
     "execution_count": 16,
     "metadata": {},
     "output_type": "execute_result"
    }
   ],
   "source": [
    "data['up_x%_in_1d_label'] "
   ]
  },
  {
   "cell_type": "code",
   "execution_count": 17,
   "metadata": {},
   "outputs": [],
   "source": [
    "label = ['up_x%_in_1d_label']\n",
    "\n",
    "positive_threshold = 3\n",
    "\n",
    "#Train\n",
    "X_train = train_data[feature_set].values.squeeze().astype(np.float32)\n",
    "\n",
    "y_train = (train_data[label].values > positive_threshold).astype(int)\n",
    "y_train_soft = np.zeros((len(y_train),2))\n",
    "y_train_soft[:,1] = np.clip(1 + train_data[label].values.squeeze() - positive_threshold, 0, 1)\n",
    "y_train_soft[:,0] = 1 - y_train_soft[:,1]\n",
    "\n",
    "#Val\n",
    "X_val = val_data[feature_set].values.squeeze().astype(np.float32)\n",
    "\n",
    "y_val = (val_data[label].values > positive_threshold).astype(int)\n",
    "y_val_soft = np.zeros((len(y_val),2))\n",
    "y_val_soft[:,1] = np.clip(1 + val_data[label].values.squeeze() - positive_threshold, 0, 1)\n",
    "y_val_soft[:,0] = 1 - y_val_soft[:,1]\n",
    "\n",
    "#Test\n",
    "X_test = test_data[feature_set].values.squeeze().astype(np.float32)\n",
    "\n",
    "y_test = (test_data[label].values > positive_threshold).astype(int)\n",
    "y_test_soft = np.zeros((len(y_test),2))\n",
    "y_test_soft[:,1] = np.clip(1 + test_data[label].values.squeeze() - positive_threshold, 0, 1)\n",
    "y_test_soft[:,0] = 1 - y_test_soft[:,1]"
   ]
  },
  {
   "cell_type": "code",
   "execution_count": 18,
   "metadata": {},
   "outputs": [
    {
     "data": {
      "text/plain": [
       "1.0"
      ]
     },
     "execution_count": 18,
     "metadata": {},
     "output_type": "execute_result"
    }
   ],
   "source": [
    "y_val_soft[:,1].max()"
   ]
  },
  {
   "cell_type": "code",
   "execution_count": 19,
   "metadata": {},
   "outputs": [
    {
     "name": "stdout",
     "output_type": "stream",
     "text": [
      "Positive ratio in train set: 0.12475384615384616\n",
      "Positive ratio in val set: 0.1460969149986619\n",
      "Positive ratio in test set: 0.0710637436508198\n"
     ]
    }
   ],
   "source": [
    "print(f'Positive ratio in train set: {np.sum(y_train) / y_train.size}')\n",
    "print(f'Positive ratio in val set: {np.sum(y_val) / y_val.size}')\n",
    "print(f'Positive ratio in test set: {np.sum(y_test) / y_test.size}')"
   ]
  },
  {
   "cell_type": "markdown",
   "metadata": {},
   "source": [
    "## Helper function"
   ]
  },
  {
   "cell_type": "code",
   "execution_count": 20,
   "metadata": {},
   "outputs": [],
   "source": [
    "def plot_roc_from_fpr_tpr(fpr, tpr):\n",
    "    lw = 2\n",
    "    roc_auc = auc(fpr, tpr)\n",
    "    #plt.figure(figsize=(5,5))\n",
    "    plt.plot(fpr, tpr, color='darkorange', lw=lw, label='(AUC = %0.3f)' % (roc_auc))\n",
    "    #plt.plot([eer], [1-eer], marker='o', markersize=5, color=\"navy\")\n",
    "    #plt.plot([0, 1], [1, 0], color='navy', lw=1, linestyle=':')\n",
    "    plt.xlim([0.0, 1.0])\n",
    "    plt.ylim([0.0, 1.05])\n",
    "    plt.xlabel('False Positive Rate')\n",
    "    plt.ylabel('True Positive Rate')\n",
    "    plt.title('Receiver Operating Characteristic Curve')\n",
    "    plt.legend(loc=\"lower right\")"
   ]
  },
  {
   "cell_type": "markdown",
   "metadata": {},
   "source": [
    "# Dataset and Dataloader (PyTorch)"
   ]
  },
  {
   "cell_type": "code",
   "execution_count": 21,
   "metadata": {},
   "outputs": [],
   "source": [
    "class Dataset(torch.utils.data.Dataset):\n",
    "  'Characterizes a dataset for PyTorch'\n",
    "  def __init__(self, data, labels):\n",
    "        'Initialization'\n",
    "        self.data = torch.from_numpy(data)\n",
    "        self.labels = torch.from_numpy(labels.squeeze())\n",
    "\n",
    "  def __len__(self):\n",
    "        'Denotes the total number of samples'\n",
    "        return len(self.data)\n",
    "\n",
    "  def __getitem__(self, index):\n",
    "        'Generates one sample of data'\n",
    "        # Select sample\n",
    "        # Load data and get label\n",
    "        X = self.data[index]\n",
    "        y = self.labels[index]\n",
    "\n",
    "        return X, y"
   ]
  },
  {
   "cell_type": "code",
   "execution_count": 22,
   "metadata": {},
   "outputs": [],
   "source": [
    "params = {'batch_size': 1024,\n",
    "          'shuffle': True,\n",
    "          'num_workers': 6,\n",
    "          'pin_memory': True,\n",
    "        }"
   ]
  },
  {
   "cell_type": "code",
   "execution_count": 23,
   "metadata": {},
   "outputs": [],
   "source": [
    "train_set = Dataset(X_train, y_train)\n",
    "train_set_soft = Dataset(X_train, y_train_soft)\n",
    "train_loader = torch.utils.data.DataLoader(train_set, **params)\n",
    "train_loader_soft = torch.utils.data.DataLoader(train_set_soft, **params)\n",
    "\n",
    "val_set = Dataset(X_val, y_val)\n",
    "val_set_soft = Dataset(X_val, y_val_soft)\n",
    "val_loader = torch.utils.data.DataLoader(val_set, **params)\n",
    "val_loader_soft = torch.utils.data.DataLoader(val_set_soft, **params)\n",
    "\n",
    "test_set = Dataset(X_test, y_test)\n",
    "test_set_soft = Dataset(X_test, y_test_soft)\n",
    "test_loader = torch.utils.data.DataLoader(test_set, **params)\n",
    "test_loader_soft = torch.utils.data.DataLoader(test_set_soft, **params)"
   ]
  },
  {
   "cell_type": "markdown",
   "metadata": {},
   "source": [
    "# MLP Model (PyTorch)"
   ]
  },
  {
   "cell_type": "code",
   "execution_count": 24,
   "metadata": {},
   "outputs": [],
   "source": [
    "# define \"soft\" cross-entropy with pytorch tensor operations\n",
    "class softXEnt(nn.Module):\n",
    "    def __init__(self):\n",
    "        super(softXEnt, self).__init__()\n",
    "\n",
    "    def forward (self, input, target):\n",
    "        logprobs = torch.nn.functional.log_softmax (input, dim = 1)\n",
    "        return  -(target * logprobs).sum() / input.shape[0]"
   ]
  },
  {
   "cell_type": "code",
   "execution_count": 25,
   "metadata": {},
   "outputs": [],
   "source": [
    "class Net(nn.Module):\n",
    "    def __init__(self, num_inputs, action_space, hidden_size1=256, hidden_size2=128):\n",
    "        super(Net, self).__init__()\n",
    "        self.action_space = action_space\n",
    "        num_outputs = action_space\n",
    "\n",
    "        self.linear1 = nn.Linear(num_inputs, hidden_size1)\n",
    "        self.linear2 = nn.Linear(hidden_size1, hidden_size2)\n",
    "        self.linear3 = nn.Linear(hidden_size2, num_outputs)\n",
    "        self.bn1 = nn.BatchNorm1d(hidden_size1)\n",
    "        self.bn2 = nn.BatchNorm1d(hidden_size2)\n",
    "\n",
    "    def forward(self, inputs):\n",
    "        x = inputs\n",
    "        x = self.bn1(F.relu(self.linear1(x)))\n",
    "        x = self.bn2(F.relu(self.linear2(x)))\n",
    "        out = self.linear3(x)\n",
    "\n",
    "        return out"
   ]
  },
  {
   "cell_type": "code",
   "execution_count": 26,
   "metadata": {},
   "outputs": [],
   "source": [
    "def train(model, device, train_loader, criterion, optimizer, epoch):\n",
    "    model.train()\n",
    "    for batch_idx, (data, target) in enumerate(train_loader):\n",
    "        data, target = data.to(device), target.to(device)\n",
    "        optimizer.zero_grad()\n",
    "        output = model(data)\n",
    "        loss = criterion(output, target)\n",
    "        loss.backward()\n",
    "        optimizer.step()\n",
    "\n",
    "def test(model, device, test_loader, criterion):\n",
    "    model.eval()\n",
    "    test_loss = 0\n",
    "    correct = 0\n",
    "    \n",
    "    label_gt = []\n",
    "    label_pred = []\n",
    "    label_pred_score = []\n",
    "    \n",
    "    with torch.no_grad():\n",
    "        for data, target in test_loader:\n",
    "            data, target = data.to(device), target.to(device)\n",
    "            output = model(data)\n",
    "            test_loss += criterion(output, target).item() * len(output)  # sum up batch loss\n",
    "            pred = output.argmax(dim=1, keepdim=True)  # get the index of the max log-probability\n",
    "\n",
    "            if len(target.shape) > 1:\n",
    "                target = target.argmax(dim=1, keepdim=False)\n",
    "            correct += pred.eq(target.view_as(pred)).sum().item()\n",
    "            \n",
    "            label_gt += list(target.cpu().numpy())\n",
    "            label_pred += list(pred.cpu().numpy())\n",
    "            label_pred_score += list(output[:,1].cpu().numpy())\n",
    "\n",
    "    test_loss /= len(test_loader.dataset)\n",
    "\n",
    "    accuracy = correct / len(test_loader.dataset)\n",
    "        \n",
    "    \n",
    "    fpr, tpr, _ = roc_curve(label_gt, label_pred_score)\n",
    "    roc_auc = auc(fpr, tpr) \n",
    "    \n",
    "    return (test_loss, accuracy, roc_auc, fpr, tpr)"
   ]
  },
  {
   "cell_type": "markdown",
   "metadata": {},
   "source": [
    "# Training"
   ]
  },
  {
   "cell_type": "code",
   "execution_count": 27,
   "metadata": {},
   "outputs": [],
   "source": [
    "# CUDA for PyTorch\n",
    "use_cuda = torch.cuda.is_available()\n",
    "device = torch.device(\"cuda:0\" if use_cuda else \"cpu\")\n",
    "torch.backends.cudnn.benchmark = True\n",
    "input_dim = X_train.shape[1]\n",
    "output_dim = 2\n",
    "max_epochs = 10"
   ]
  },
  {
   "cell_type": "markdown",
   "metadata": {},
   "source": []
  },
  {
   "cell_type": "markdown",
   "metadata": {},
   "source": [
    "## Train with Hard Labels"
   ]
  },
  {
   "cell_type": "code",
   "execution_count": 28,
   "metadata": {},
   "outputs": [
    {
     "data": {
      "application/vnd.jupyter.widget-view+json": {
       "model_id": "b6ceacc190ec4edab1d3d983b177cd3d",
       "version_major": 2,
       "version_minor": 0
      },
      "text/plain": [
       "HBox(children=(IntProgress(value=0, max=10), HTML(value='')))"
      ]
     },
     "metadata": {},
     "output_type": "display_data"
    },
    {
     "name": "stdout",
     "output_type": "stream",
     "text": [
      "\n"
     ]
    }
   ],
   "source": [
    "model = Net(input_dim, output_dim).to(device)\n",
    "optimizer = optim.Adadelta(model.parameters(), lr=0.1)\n",
    "#criterion = softXEnt().to(device)\n",
    "criterion = nn.CrossEntropyLoss()\n",
    "\n",
    "scheduler = StepLR(optimizer, step_size=1, gamma=0.7)\n",
    "\n",
    "train_roc_auc_list = []\n",
    "val_roc_auc_list = []\n",
    "\n",
    "\n",
    "max_epochs = 10\n",
    "for epoch in tqdm(range(max_epochs)):\n",
    "    train(model, device, train_loader, criterion, optimizer, epoch)\n",
    "    (train_loss, train_accuracy, train_roc_auc, train_fpr, train_tpr) = test(model, device, train_loader, criterion)\n",
    "    (val_loss, val_accuracy, val_roc_auc, val_fpr, val_tpr) = test(model, device, val_loader, criterion)\n",
    "    train_roc_auc_list.append(train_roc_auc)\n",
    "    val_roc_auc_list.append(val_roc_auc)\n",
    "    scheduler.step()"
   ]
  },
  {
   "cell_type": "code",
   "execution_count": 29,
   "metadata": {},
   "outputs": [
    {
     "data": {
      "image/png": "[encoded data removed]",
      "text/plain": [
       "<Figure size 720x360 with 2 Axes>"
      ]
     },
     "metadata": {
      "needs_background": "light"
     },
     "output_type": "display_data"
    }
   ],
   "source": [
    "plt.figure(figsize=(10,5))\n",
    "plt.subplot(1, 2, 1)\n",
    "plt.plot(train_roc_auc_list)\n",
    "plt.plot(val_roc_auc_list)\n",
    "plt.title('ROC AUC')\n",
    "plt.legend(['train','val'])\n",
    "plt.subplot(1, 2, 2)\n",
    "plot_roc_from_fpr_tpr(val_fpr, val_tpr)"
   ]
  },
  {
   "cell_type": "markdown",
   "metadata": {},
   "source": [
    "## Train with Soft Labels"
   ]
  },
  {
   "cell_type": "code",
   "execution_count": 30,
   "metadata": {},
   "outputs": [
    {
     "data": {
      "application/vnd.jupyter.widget-view+json": {
       "model_id": "5aad6dc63cce4787b5316ac9406baf85",
       "version_major": 2,
       "version_minor": 0
      },
      "text/plain": [
       "HBox(children=(IntProgress(value=0, max=10), HTML(value='')))"
      ]
     },
     "metadata": {},
     "output_type": "display_data"
    },
    {
     "name": "stdout",
     "output_type": "stream",
     "text": [
      "\n"
     ]
    }
   ],
   "source": [
    "model = Net(input_dim, output_dim).to(device)\n",
    "optimizer = optim.Adadelta(model.parameters(), lr=0.1)\n",
    "criterion = softXEnt().to(device)\n",
    "#criterion = nn.CrossEntropyLoss()\n",
    "\n",
    "scheduler = StepLR(optimizer, step_size=1, gamma=0.7)\n",
    "\n",
    "train_roc_auc_list = []\n",
    "val_roc_auc_list = []\n",
    "\n",
    "max_epochs = 10\n",
    "for epoch in tqdm(range(max_epochs)):\n",
    "    train(model, device, train_loader_soft, criterion, optimizer, epoch)\n",
    "    (train_loss, train_accuracy, train_roc_auc, train_fpr, train_tpr) = test(model, device, train_loader_soft, criterion)\n",
    "    (val_loss, val_accuracy, val_roc_auc, val_fpr, val_tpr) = test(model, device, val_loader_soft, criterion)\n",
    "    train_roc_auc_list.append(train_roc_auc)\n",
    "    val_roc_auc_list.append(val_roc_auc)\n",
    "    scheduler.step()"
   ]
  },
  {
   "cell_type": "code",
   "execution_count": 31,
   "metadata": {},
   "outputs": [
    {
     "data": {
      "image/png": "[encoded data removed]",
      "text/plain": [
       "<Figure size 720x360 with 2 Axes>"
      ]
     },
     "metadata": {
      "needs_background": "light"
     },
     "output_type": "display_data"
    }
   ],
   "source": [
    "plt.figure(figsize=(10,5))\n",
    "plt.subplot(1, 2, 1)\n",
    "plt.plot(train_roc_auc_list)\n",
    "plt.plot(val_roc_auc_list)\n",
    "plt.title('ROC AUC')\n",
    "plt.legend(['train','val'])\n",
    "plt.subplot(1, 2, 2)\n",
    "plot_roc_from_fpr_tpr(val_fpr, val_tpr)"
   ]
  },
  {
   "cell_type": "code",
   "execution_count": null,
   "metadata": {},
   "outputs": [],
   "source": []
  },
  {
   "cell_type": "markdown",
   "metadata": {},
   "source": [
    "# TODO"
   ]
  },
  {
   "cell_type": "markdown",
   "metadata": {},
   "source": [
    "## Define model and hyperparameter"
   ]
  },
  {
   "cell_type": "code",
   "execution_count": 32,
   "metadata": {},
   "outputs": [],
   "source": [
    "# For reading, visualizing, and preprocessing data\n",
    "import numpy as np\n",
    "import pandas as pd\n",
    "import seaborn as sns\n",
    "import matplotlib.pyplot as plt\n",
    "from sklearn.datasets import make_classification\n",
    "from sklearn.feature_selection import RFE, RFECV\n",
    "from sklearn.model_selection import train_test_split, GridSearchCV, KFold\n",
    "from sklearn.pipeline import Pipeline\n",
    "from sklearn import metrics\n",
    "from sklearn.pipeline import Pipeline, FeatureUnion\n",
    "from sklearn.pipeline import make_pipeline\n",
    "from sklearn.preprocessing import StandardScaler\n",
    "import matplotlib.pyplot as plt\n",
    "from sklearn import datasets\n",
    "from sklearn.ensemble import GradientBoostingClassifier"
   ]
  },
  {
   "cell_type": "markdown",
   "metadata": {},
   "source": [
    "### Initialize Sample Reweighting"
   ]
  },
  {
   "cell_type": "code",
   "execution_count": 33,
   "metadata": {},
   "outputs": [],
   "source": [
    "from sample_reweight import SampleReweight\n",
    "from featureSelection import featureSelection"
   ]
  },
  {
   "cell_type": "code",
   "execution_count": 34,
   "metadata": {},
   "outputs": [],
   "source": [
    "LIMITED_SAMPLE = False\n",
    "EXAMPLES = 40000 if LIMITED_SAMPLE else X_train.shape[0]\n",
    "\n",
    "# number of submodels\n",
    "K = 5\n",
    "\n",
    "# initialize sample weights and parameters\n",
    "w = np.ones(X_train.shape[0])[:EXAMPLES]\n",
    "\n",
    "ALPHA_1 = 1\n",
    "ALPHA_2 = 1\n",
    "NUM_BINS = 10\n",
    "GAMMA = 0.9\n",
    "\n",
    "# initialize feature selection parameters\n",
    "NUM_BINS_FS = 3\n",
    "ratio = [0.8, 0.6, 0.4]\n",
    "feature_selected = feature_set"
   ]
  },
  {
   "cell_type": "markdown",
   "metadata": {},
   "source": [
    "### Define model"
   ]
  },
  {
   "cell_type": "code",
   "execution_count": 35,
   "metadata": {
    "scrolled": true
   },
   "outputs": [],
   "source": [
    "clfs = [GradientBoostingClassifier(random_state=0) for i in range(K)]"
   ]
  },
  {
   "cell_type": "markdown",
   "metadata": {},
   "source": [
    "### Train Sub-model Loops"
   ]
  },
  {
   "cell_type": "code",
   "execution_count": 36,
   "metadata": {
    "scrolled": false
   },
   "outputs": [
    {
     "name": "stderr",
     "output_type": "stream",
     "text": [
      "\r",
      "  0%|          | 0/5 [00:00<?, ?it/s]"
     ]
    },
    {
     "ename": "IndexError",
     "evalue": "only integers, slices (`:`), ellipsis (`...`), numpy.newaxis (`None`) and integer or boolean arrays are valid indices",
     "output_type": "error",
     "traceback": [
      "\u001b[0;31m---------------------------------------------------------------------------\u001b[0m",
      "\u001b[0;31mIndexError\u001b[0m                                Traceback (most recent call last)",
      "\u001b[0;32m<ipython-input-36-1a27a41d7878>\u001b[0m in \u001b[0;36m<module>\u001b[0;34m\u001b[0m\n\u001b[1;32m      9\u001b[0m \u001b[0mlist_feature_selected\u001b[0m\u001b[0;34m.\u001b[0m\u001b[0mappend\u001b[0m\u001b[0;34m(\u001b[0m\u001b[0mfeature_selected\u001b[0m\u001b[0;34m.\u001b[0m\u001b[0mcopy\u001b[0m\u001b[0;34m(\u001b[0m\u001b[0;34m)\u001b[0m\u001b[0;34m)\u001b[0m\u001b[0;34m\u001b[0m\u001b[0m\n\u001b[1;32m     10\u001b[0m \u001b[0;32mfor\u001b[0m \u001b[0mmodel\u001b[0m \u001b[0;32min\u001b[0m \u001b[0msubmodels\u001b[0m\u001b[0;34m:\u001b[0m\u001b[0;34m\u001b[0m\u001b[0m\n\u001b[0;32m---> 11\u001b[0;31m     \u001b[0mmodel\u001b[0m\u001b[0;34m.\u001b[0m\u001b[0mfit\u001b[0m\u001b[0;34m(\u001b[0m\u001b[0mX_train\u001b[0m\u001b[0;34m[\u001b[0m\u001b[0;34m:\u001b[0m\u001b[0mEXAMPLES\u001b[0m\u001b[0;34m]\u001b[0m\u001b[0;34m[\u001b[0m\u001b[0mfeature_selected\u001b[0m\u001b[0;34m]\u001b[0m\u001b[0;34m,\u001b[0m \u001b[0my_train\u001b[0m\u001b[0;34m[\u001b[0m\u001b[0;34m:\u001b[0m\u001b[0mEXAMPLES\u001b[0m\u001b[0;34m]\u001b[0m\u001b[0;34m,\u001b[0m \u001b[0msample_weight\u001b[0m\u001b[0;34m=\u001b[0m\u001b[0mw\u001b[0m\u001b[0;34m)\u001b[0m\u001b[0;34m\u001b[0m\u001b[0m\n\u001b[0m\u001b[1;32m     12\u001b[0m \u001b[0;34m\u001b[0m\u001b[0m\n\u001b[1;32m     13\u001b[0m     \u001b[0mstaged_pred\u001b[0m \u001b[0;34m=\u001b[0m \u001b[0;34m[\u001b[0m\u001b[0;34m]\u001b[0m\u001b[0;34m\u001b[0m\u001b[0m\n",
      "\u001b[0;31mIndexError\u001b[0m: only integers, slices (`:`), ellipsis (`...`), numpy.newaxis (`None`) and integer or boolean arrays are valid indices"
     ]
    }
   ],
   "source": [
    "try:\n",
    "    from tqdm import tqdm\n",
    "    submodels = tqdm(clfs)\n",
    "except ImportError:\n",
    "    submodels = clfs\n",
    "\n",
    "list_feature_selected = []\n",
    "new_features=[]\n",
    "list_feature_selected.append(feature_selected.copy())\n",
    "for model in submodels:\n",
    "    model.fit(X_train[:EXAMPLES][feature_selected], y_train[:EXAMPLES], sample_weight=w)\n",
    "    \n",
    "    staged_pred = []\n",
    "    \n",
    "    for i, pred in enumerate(model.staged_predict_proba(X_train[:EXAMPLES][feature_selected])):\n",
    "        staged_pred.append(np.log(pred))\n",
    "    \n",
    "    # initialize sample reweighting\n",
    "    SR = SampleReweight(X_train[:EXAMPLES][feature_selected], y_train[:EXAMPLES].to_numpy(dtype=int), a1=ALPHA_1, a2=ALPHA_2, b=NUM_BINS, gamma=GAMMA)\n",
    "    w = SR.reweight(model, staged_pred)\n",
    "    print(np.max(w))\n",
    "\n",
    "    # feature selection\n",
    "    feature_selected_index = featureSelection(model, X_val[:EXAMPLES][feature_selected].to_numpy(), y_val[:EXAMPLES].to_numpy(), NUM_BINS_FS, ratio)\n",
    "    for index in feature_selected_index:\n",
    "        new_features.append(feature_selected[index])\n",
    "    feature_selected = new_features.copy()\n",
    "    list_feature_selected.append(feature_selected.copy())\n",
    "    new_features = []"
   ]
  },
  {
   "cell_type": "code",
   "execution_count": null,
   "metadata": {},
   "outputs": [],
   "source": [
    "feature_selected"
   ]
  },
  {
   "cell_type": "code",
   "execution_count": null,
   "metadata": {},
   "outputs": [],
   "source": [
    "counter = -1\n",
    "decision_list = []\n",
    "for clf in clfs:\n",
    "    counter += 1\n",
    "    decision_list.append(clf.decision_function(X_test[list_feature_selected[counter]]))\n",
    "print(decision_list)\n",
    "print(np.asarray(decision_list))\n",
    "y_score = np.mean(np.asarray(decision_list), axis = 0)\n",
    "\n",
    "#y_score = np.mean(np.asarray([clf.decision_function(X_test) for clf in clfs]), axis=0)\n",
    "#print([clf.decision_function(X_test) for clf in clfs][1])\n",
    "print(y_score)"
   ]
  },
  {
   "cell_type": "markdown",
   "metadata": {},
   "source": [
    "## Evaluate Model"
   ]
  },
  {
   "cell_type": "code",
   "execution_count": null,
   "metadata": {},
   "outputs": [],
   "source": [
    "def plot_roc(labels, scores):\n",
    "    lw = 2\n",
    "    fpr, tpr, _ = roc_curve(labels, scores)\n",
    "    roc_auc = auc(fpr, tpr)\n",
    "    plt.figure(figsize=(5,5))\n",
    "    plt.plot(fpr, tpr, color='darkorange', lw=lw, label='(AUC = %0.3f)' % (roc_auc))\n",
    "    #plt.plot([eer], [1-eer], marker='o', markersize=5, color=\"navy\")\n",
    "    #plt.plot([0, 1], [1, 0], color='navy', lw=1, linestyle=':')\n",
    "    plt.xlim([0.0, 1.0])\n",
    "    plt.ylim([0.0, 1.05])\n",
    "    plt.xlabel('False Positive Rate')\n",
    "    plt.ylabel('True Positive Rate')\n",
    "    plt.title('Receiver Operating Characteristic Curve')\n",
    "    plt.legend(loc=\"lower right\")"
   ]
  },
  {
   "cell_type": "code",
   "execution_count": null,
   "metadata": {},
   "outputs": [],
   "source": [
    "plot_roc(y_test, y_score)"
   ]
  },
  {
   "cell_type": "code",
   "execution_count": null,
   "metadata": {},
   "outputs": [],
   "source": []
  },
  {
   "cell_type": "code",
   "execution_count": null,
   "metadata": {},
   "outputs": [],
   "source": []
  }
 ],
 "metadata": {
  "kernelspec": {
   "display_name": "Python 3",
   "language": "python",
   "name": "python3"
  },
  "language_info": {
   "codemirror_mode": {
    "name": "ipython",
    "version": 3
   },
   "file_extension": ".py",
   "mimetype": "text/x-python",
   "name": "python",
   "nbconvert_exporter": "python",
   "pygments_lexer": "ipython3",
   "version": "3.6.2"
  }
 },
 "nbformat": 4,
 "nbformat_minor": 4
}
