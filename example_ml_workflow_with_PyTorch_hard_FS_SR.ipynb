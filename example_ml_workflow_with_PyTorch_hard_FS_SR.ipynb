{
 "cells": [
  {
   "cell_type": "markdown",
   "metadata": {},
   "source": [
    "# Prepare Data\n",
    "Here we prepare data as 1 min level kline for BTC from 2019.1.1 to 2020.5.2 in bitfinex exchange"
   ]
  },
  {
   "cell_type": "code",
   "execution_count": 1,
   "metadata": {},
   "outputs": [],
   "source": [
    "#!python3 -m pip install -e .. -U\n",
    "import pandas as pd\n",
    "import numpy as np\n",
    "import matplotlib.pyplot as plt\n",
    "from datetime import timedelta\n",
    "from sklearn.metrics import roc_curve, auc\n",
    "import torch\n",
    "import torch.nn as nn\n",
    "import torch.nn.functional as F\n",
    "import torch.optim as optim\n",
    "from torch.optim.lr_scheduler import StepLR\n",
    "from tqdm.auto import tqdm, trange"
   ]
  },
  {
   "cell_type": "code",
   "execution_count": 2,
   "metadata": {},
   "outputs": [],
   "source": [
    "TZ = 'Asia/Shanghai'"
   ]
  },
  {
   "cell_type": "code",
   "execution_count": 3,
   "metadata": {},
   "outputs": [],
   "source": [
    "data_path = './data/data'\n",
    "data_platform_list = ['BITFINEX']\n",
    "data_symbol_list = ['BTC']\n",
    "\n",
    "data_df_list = []"
   ]
  },
  {
   "cell_type": "code",
   "execution_count": 4,
   "metadata": {},
   "outputs": [],
   "source": [
    "for platform in data_platform_list:\n",
    "    for symbol in data_symbol_list:\n",
    "        pkl_file_path = data_path+'/'+symbol+'_USD_'+platform+'_latest.pkl'\n",
    "        pandas_df = pd.read_pickle(pkl_file_path)\n",
    "        #data_df_list.append(pkl_file.add_prefix(platform+'_'+symbol+':'))\n",
    "        data_df_list.append(pandas_df)\n",
    "data = pd.concat(data_df_list, axis=1)"
   ]
  },
  {
   "cell_type": "markdown",
   "metadata": {},
   "source": [
    "# Feature Enginnering"
   ]
  },
  {
   "cell_type": "markdown",
   "metadata": {},
   "source": [
    "Tactical indicators etc."
   ]
  },
  {
   "cell_type": "code",
   "execution_count": 5,
   "metadata": {},
   "outputs": [],
   "source": [
    "data['timestamp'] = data.index.tolist()"
   ]
  },
  {
   "cell_type": "code",
   "execution_count": 6,
   "metadata": {},
   "outputs": [
    {
     "data": {
      "text/html": [
       "<div>\n",
       "<style scoped>\n",
       "    .dataframe tbody tr th:only-of-type {\n",
       "        vertical-align: middle;\n",
       "    }\n",
       "\n",
       "    .dataframe tbody tr th {\n",
       "        vertical-align: top;\n",
       "    }\n",
       "\n",
       "    .dataframe thead th {\n",
       "        text-align: right;\n",
       "    }\n",
       "</style>\n",
       "<table border=\"1\" class=\"dataframe\">\n",
       "  <thead>\n",
       "    <tr style=\"text-align: right;\">\n",
       "      <th></th>\n",
       "      <th>open</th>\n",
       "      <th>high</th>\n",
       "      <th>low</th>\n",
       "      <th>close</th>\n",
       "      <th>volume</th>\n",
       "      <th>timestamp</th>\n",
       "    </tr>\n",
       "  </thead>\n",
       "  <tbody>\n",
       "    <tr>\n",
       "      <th>2019-01-01 16:00:00+08:00</th>\n",
       "      <td>3850.000000</td>\n",
       "      <td>3850.00000</td>\n",
       "      <td>3849.600000</td>\n",
       "      <td>3849.60000</td>\n",
       "      <td>0.443293</td>\n",
       "      <td>2019-01-01 16:00:00+08:00</td>\n",
       "    </tr>\n",
       "    <tr>\n",
       "      <th>2019-01-01 16:01:00+08:00</th>\n",
       "      <td>3849.500000</td>\n",
       "      <td>3853.00000</td>\n",
       "      <td>3849.400000</td>\n",
       "      <td>3853.00000</td>\n",
       "      <td>9.085920</td>\n",
       "      <td>2019-01-01 16:01:00+08:00</td>\n",
       "    </tr>\n",
       "    <tr>\n",
       "      <th>2019-01-01 16:02:00+08:00</th>\n",
       "      <td>3853.000000</td>\n",
       "      <td>3857.00000</td>\n",
       "      <td>3852.960000</td>\n",
       "      <td>3853.20000</td>\n",
       "      <td>8.213360</td>\n",
       "      <td>2019-01-01 16:02:00+08:00</td>\n",
       "    </tr>\n",
       "    <tr>\n",
       "      <th>2019-01-01 16:03:00+08:00</th>\n",
       "      <td>3853.000000</td>\n",
       "      <td>3853.10000</td>\n",
       "      <td>3851.200000</td>\n",
       "      <td>3852.20000</td>\n",
       "      <td>6.385190</td>\n",
       "      <td>2019-01-01 16:03:00+08:00</td>\n",
       "    </tr>\n",
       "    <tr>\n",
       "      <th>2019-01-01 16:04:00+08:00</th>\n",
       "      <td>3852.200000</td>\n",
       "      <td>3852.30000</td>\n",
       "      <td>3852.200000</td>\n",
       "      <td>3852.30000</td>\n",
       "      <td>0.504622</td>\n",
       "      <td>2019-01-01 16:04:00+08:00</td>\n",
       "    </tr>\n",
       "    <tr>\n",
       "      <th>...</th>\n",
       "      <td>...</td>\n",
       "      <td>...</td>\n",
       "      <td>...</td>\n",
       "      <td>...</td>\n",
       "      <td>...</td>\n",
       "      <td>...</td>\n",
       "    </tr>\n",
       "    <tr>\n",
       "      <th>2020-12-07 15:55:00+08:00</th>\n",
       "      <td>19398.841056</td>\n",
       "      <td>19402.00000</td>\n",
       "      <td>19398.841056</td>\n",
       "      <td>19402.00000</td>\n",
       "      <td>8.340088</td>\n",
       "      <td>2020-12-07 15:55:00+08:00</td>\n",
       "    </tr>\n",
       "    <tr>\n",
       "      <th>2020-12-07 15:56:00+08:00</th>\n",
       "      <td>19402.690321</td>\n",
       "      <td>19418.62931</td>\n",
       "      <td>19402.690321</td>\n",
       "      <td>19418.62931</td>\n",
       "      <td>2.047179</td>\n",
       "      <td>2020-12-07 15:56:00+08:00</td>\n",
       "    </tr>\n",
       "    <tr>\n",
       "      <th>2020-12-07 15:57:00+08:00</th>\n",
       "      <td>19412.000000</td>\n",
       "      <td>19419.00000</td>\n",
       "      <td>19412.000000</td>\n",
       "      <td>19419.00000</td>\n",
       "      <td>0.153671</td>\n",
       "      <td>2020-12-07 15:57:00+08:00</td>\n",
       "    </tr>\n",
       "    <tr>\n",
       "      <th>2020-12-07 15:58:00+08:00</th>\n",
       "      <td>19410.000000</td>\n",
       "      <td>19414.00000</td>\n",
       "      <td>19410.000000</td>\n",
       "      <td>19414.00000</td>\n",
       "      <td>0.633814</td>\n",
       "      <td>2020-12-07 15:58:00+08:00</td>\n",
       "    </tr>\n",
       "    <tr>\n",
       "      <th>2020-12-07 15:59:00+08:00</th>\n",
       "      <td>19413.779503</td>\n",
       "      <td>19414.00000</td>\n",
       "      <td>19404.000000</td>\n",
       "      <td>19405.00000</td>\n",
       "      <td>2.242484</td>\n",
       "      <td>2020-12-07 15:59:00+08:00</td>\n",
       "    </tr>\n",
       "  </tbody>\n",
       "</table>\n",
       "<p>988483 rows × 6 columns</p>\n",
       "</div>"
      ],
      "text/plain": [
       "                                   open         high           low  \\\n",
       "2019-01-01 16:00:00+08:00   3850.000000   3850.00000   3849.600000   \n",
       "2019-01-01 16:01:00+08:00   3849.500000   3853.00000   3849.400000   \n",
       "2019-01-01 16:02:00+08:00   3853.000000   3857.00000   3852.960000   \n",
       "2019-01-01 16:03:00+08:00   3853.000000   3853.10000   3851.200000   \n",
       "2019-01-01 16:04:00+08:00   3852.200000   3852.30000   3852.200000   \n",
       "...                                 ...          ...           ...   \n",
       "2020-12-07 15:55:00+08:00  19398.841056  19402.00000  19398.841056   \n",
       "2020-12-07 15:56:00+08:00  19402.690321  19418.62931  19402.690321   \n",
       "2020-12-07 15:57:00+08:00  19412.000000  19419.00000  19412.000000   \n",
       "2020-12-07 15:58:00+08:00  19410.000000  19414.00000  19410.000000   \n",
       "2020-12-07 15:59:00+08:00  19413.779503  19414.00000  19404.000000   \n",
       "\n",
       "                                 close    volume                 timestamp  \n",
       "2019-01-01 16:00:00+08:00   3849.60000  0.443293 2019-01-01 16:00:00+08:00  \n",
       "2019-01-01 16:01:00+08:00   3853.00000  9.085920 2019-01-01 16:01:00+08:00  \n",
       "2019-01-01 16:02:00+08:00   3853.20000  8.213360 2019-01-01 16:02:00+08:00  \n",
       "2019-01-01 16:03:00+08:00   3852.20000  6.385190 2019-01-01 16:03:00+08:00  \n",
       "2019-01-01 16:04:00+08:00   3852.30000  0.504622 2019-01-01 16:04:00+08:00  \n",
       "...                                ...       ...                       ...  \n",
       "2020-12-07 15:55:00+08:00  19402.00000  8.340088 2020-12-07 15:55:00+08:00  \n",
       "2020-12-07 15:56:00+08:00  19418.62931  2.047179 2020-12-07 15:56:00+08:00  \n",
       "2020-12-07 15:57:00+08:00  19419.00000  0.153671 2020-12-07 15:57:00+08:00  \n",
       "2020-12-07 15:58:00+08:00  19414.00000  0.633814 2020-12-07 15:58:00+08:00  \n",
       "2020-12-07 15:59:00+08:00  19405.00000  2.242484 2020-12-07 15:59:00+08:00  \n",
       "\n",
       "[988483 rows x 6 columns]"
      ]
     },
     "execution_count": 6,
     "metadata": {},
     "output_type": "execute_result"
    }
   ],
   "source": [
    "data"
   ]
  },
  {
   "cell_type": "code",
   "execution_count": 7,
   "metadata": {},
   "outputs": [],
   "source": [
    "# Prepare features\n",
    "import talib\n",
    "\n",
    "# Moving averages\n",
    "data['ma5m'] = talib.MA(data['close'], timeperiod = 5) / data['close'] \n",
    "data['ma10m'] = talib.MA(data['close'], timeperiod = 10) / data['close'] \n",
    "data['ma1h'] = talib.MA(data['close'], timeperiod = 60) / data['close'] \n",
    "data['ma4h'] = talib.MA(data['close'], timeperiod = 240) / data['close'] \n",
    "data['ma12h'] = talib.MA(data['close'], timeperiod = 720) / data['close'] \n",
    "data['ma1d'] = talib.MA(data['close'], timeperiod = 1440) / data['close']\n",
    "data['ma5d'] = talib.MA(data['close'], timeperiod = 7200) / data['close'] \n",
    "data['ma10d'] = talib.MA(data['close'], timeperiod = 14400) / data['close'] \n",
    "data['ma30d'] = talib.MA(data['close'], timeperiod = 43200) / data['close'] \n",
    "\n",
    "\n",
    "# Standard deviation\n",
    "data['std5m'] = talib.STDDEV(data['close'], timeperiod=5)/ data['close'] \n",
    "data['std10m'] = talib.STDDEV(data['close'], timeperiod = 10) / data['close'] \n",
    "data['std1h'] = talib.STDDEV(data['close'], timeperiod = 60) / data['close'] \n",
    "data['std4h'] = talib.STDDEV(data['close'], timeperiod = 240) / data['close'] \n",
    "data['std12h'] = talib.STDDEV(data['close'], timeperiod = 720) / data['close'] \n",
    "data['std1d'] = talib.STDDEV(data['close'], timeperiod = 1440) / data['close']\n",
    "data['std5d'] = talib.STDDEV(data['close'], timeperiod = 7200) / data['close'] \n",
    "data['std10d'] = talib.STDDEV(data['close'], timeperiod = 14400) / data['close'] \n",
    "data['std30d'] = talib.STDDEV(data['close'], timeperiod = 43200) / data['close'] \n",
    "\n",
    "# Closeness to hundred / thousand\n",
    "data['dis100'] = (data['close'] % 100) / 100 \n",
    "data['dis1000'] = (data['close'] % 1000) / 1000 "
   ]
  },
  {
   "cell_type": "code",
   "execution_count": 8,
   "metadata": {},
   "outputs": [],
   "source": [
    "feature_set = ['ma5m','ma10m','ma1h','ma4h','ma12h','ma1d','ma5d','ma10d','ma30d', \\\n",
    "               'std5m','std10m','std1h','std4h','std12h','std1d','std5d','std10d','std30d',\\\n",
    "               'dis100', 'dis1000']"
   ]
  },
  {
   "cell_type": "markdown",
   "metadata": {},
   "source": [
    "## Augment with same features in previous timestamps"
   ]
  },
  {
   "cell_type": "code",
   "execution_count": 9,
   "metadata": {},
   "outputs": [],
   "source": [
    "new_feature_set = []\n",
    "for feature in feature_set:\n",
    "    data[f'{feature}_p1h'] = data[feature].shift(60)\n",
    "    data[f'{feature}_p1d'] = data[feature].shift(1440)\n",
    "    data[f'{feature}_p5d'] = data[feature].shift(7200)\n",
    "    new_feature_set += [feature, f'{feature}_p1h', f'{feature}_p1d', f'{feature}_p5d']\n",
    "feature_set = new_feature_set"
   ]
  },
  {
   "cell_type": "code",
   "execution_count": 10,
   "metadata": {},
   "outputs": [
    {
     "name": "stdout",
     "output_type": "stream",
     "text": [
      "Total feature number 80\n"
     ]
    }
   ],
   "source": [
    "print(f'Total feature number {len(feature_set)}')"
   ]
  },
  {
   "cell_type": "markdown",
   "metadata": {},
   "source": [
    "## Show distribution of return in 1d "
   ]
  },
  {
   "cell_type": "code",
   "execution_count": 11,
   "metadata": {},
   "outputs": [
    {
     "data": {
      "text/plain": [
       "(array([9.00000e+00, 5.60000e+01, 3.20000e+02, 1.95000e+02, 5.63000e+02,\n",
       "        1.26600e+03, 3.88500e+03, 5.76200e+03, 1.46120e+04, 4.65010e+04,\n",
       "        1.37749e+05, 3.97512e+05, 2.54872e+05, 7.25690e+04, 2.87060e+04,\n",
       "        9.17900e+03, 6.52600e+03, 3.46900e+03, 1.22700e+03, 2.61000e+02,\n",
       "        2.04000e+02, 1.23000e+02, 1.93000e+02, 2.68000e+02, 1.59000e+02,\n",
       "        1.02000e+02, 9.70000e+01, 9.90000e+01, 6.60000e+01, 6.70000e+01,\n",
       "        4.30000e+01, 8.80000e+01, 5.00000e+01, 3.00000e+01, 2.20000e+01,\n",
       "        1.20000e+01, 1.00000e+01, 4.10000e+01, 4.10000e+01, 4.00000e+01,\n",
       "        1.10000e+01, 3.00000e+00, 2.00000e+00, 4.00000e+00, 1.20000e+01,\n",
       "        9.00000e+00, 3.00000e+00, 1.00000e+00, 3.00000e+00, 1.00000e+00]),\n",
       " array([-0.28686676, -0.26269117, -0.23851558, -0.21433999, -0.19016441,\n",
       "        -0.16598882, -0.14181323, -0.11763764, -0.09346206, -0.06928647,\n",
       "        -0.04511088, -0.0209353 ,  0.00324029,  0.02741588,  0.05159147,\n",
       "         0.07576705,  0.09994264,  0.12411823,  0.14829381,  0.1724694 ,\n",
       "         0.19664499,  0.22082058,  0.24499616,  0.26917175,  0.29334734,\n",
       "         0.31752293,  0.34169851,  0.3658741 ,  0.39004969,  0.41422527,\n",
       "         0.43840086,  0.46257645,  0.48675204,  0.51092762,  0.53510321,\n",
       "         0.5592788 ,  0.58345439,  0.60762997,  0.63180556,  0.65598115,\n",
       "         0.68015673,  0.70433232,  0.72850791,  0.7526835 ,  0.77685908,\n",
       "         0.80103467,  0.82521026,  0.84938585,  0.87356143,  0.89773702,\n",
       "         0.92191261]),\n",
       " <BarContainer object of 50 artists>)"
      ]
     },
     "execution_count": 11,
     "metadata": {},
     "output_type": "execute_result"
    },
    {
     "data": {
      "image/png": "[encoded data removed]",
      "text/plain": [
       "<Figure size 432x288 with 1 Axes>"
      ]
     },
     "metadata": {
      "needs_background": "light"
     },
     "output_type": "display_data"
    }
   ],
   "source": [
    "plt.hist(data['close'] / data['close'].shift(-1440) - 1,bins=50)"
   ]
  },
  {
   "cell_type": "code",
   "execution_count": 12,
   "metadata": {},
   "outputs": [],
   "source": [
    "data['up_x%_in_1d_label'] = 100 * (data['close'] / data['close'].shift(-60) - 1)"
   ]
  },
  {
   "cell_type": "code",
   "execution_count": 13,
   "metadata": {},
   "outputs": [],
   "source": [
    "data=data.dropna()"
   ]
  },
  {
   "cell_type": "markdown",
   "metadata": {},
   "source": [
    "## Data Preparation"
   ]
  },
  {
   "cell_type": "code",
   "execution_count": 14,
   "metadata": {},
   "outputs": [],
   "source": [
    "train_start_time = pd.Timestamp('2019-01-01', tz=TZ)\n",
    "train_end_time = pd.Timestamp('2020-4-1', tz=TZ)\n",
    "val_start_time = pd.Timestamp('2020-4-1', tz=TZ)\n",
    "val_end_time = pd.Timestamp('2020-08-01', tz=TZ)\n",
    "test_start_time = pd.Timestamp('2020-08-01', tz=TZ)\n",
    "test_end_time = pd.Timestamp('2020-12-31', tz=TZ)\n",
    "\n",
    "train_data = data.loc[train_start_time:train_end_time]\n",
    "val_data = data.loc[val_start_time:val_end_time]\n",
    "test_data = data.loc[test_start_time:test_end_time]"
   ]
  },
  {
   "cell_type": "markdown",
   "metadata": {},
   "source": [
    "## Discritize continuous features"
   ]
  },
  {
   "cell_type": "code",
   "execution_count": 15,
   "metadata": {},
   "outputs": [],
   "source": [
    "X_train = train_data[feature_set].values.squeeze().astype(np.float32)\n",
    "X_val = val_data[feature_set].values.squeeze().astype(np.float32)\n",
    "X_test = test_data[feature_set].values.squeeze().astype(np.float32)"
   ]
  },
  {
   "cell_type": "code",
   "execution_count": 16,
   "metadata": {},
   "outputs": [],
   "source": [
    "from sklearn.preprocessing import KBinsDiscretizer"
   ]
  },
  {
   "cell_type": "code",
   "execution_count": 17,
   "metadata": {},
   "outputs": [
    {
     "data": {
      "text/plain": [
       "KBinsDiscretizer(encode='ordinal', strategy='uniform')"
      ]
     },
     "execution_count": 17,
     "metadata": {},
     "output_type": "execute_result"
    }
   ],
   "source": [
    "est = KBinsDiscretizer(n_bins=5, encode='ordinal', strategy='uniform')\n",
    "est.fit(X_train)"
   ]
  },
  {
   "cell_type": "code",
   "execution_count": 18,
   "metadata": {},
   "outputs": [],
   "source": [
    "X_train = est.transform(X_train)\n",
    "X_val = est.transform(X_val)\n",
    "X_test = est.transform(X_test)"
   ]
  },
  {
   "cell_type": "markdown",
   "metadata": {},
   "source": [
    "## Construct labels"
   ]
  },
  {
   "cell_type": "code",
   "execution_count": 19,
   "metadata": {},
   "outputs": [],
   "source": [
    "label = ['up_x%_in_1d_label']\n",
    "\n",
    "positive_threshold = 1\n",
    "\n",
    "#Train\n",
    "y_train = (train_data[label].values > positive_threshold).astype(int)\n",
    "y_train_soft = np.zeros((len(y_train),2))\n",
    "y_train_soft[:,1] = np.clip(1 + train_data[label].values.squeeze() - positive_threshold, 0, 1)\n",
    "y_train_soft[:,0] = 1 - y_train_soft[:,1]\n",
    "\n",
    "#Val\n",
    "y_val = (val_data[label].values > positive_threshold).astype(int)\n",
    "y_val_soft = np.zeros((len(y_val),2))\n",
    "y_val_soft[:,1] = np.clip(1 + val_data[label].values.squeeze() - positive_threshold, 0, 1)\n",
    "y_val_soft[:,0] = 1 - y_val_soft[:,1]\n",
    "\n",
    "#Test\n",
    "y_test = (test_data[label].values > positive_threshold).astype(int)\n",
    "y_test_soft = np.zeros((len(y_test),2))\n",
    "y_test_soft[:,1] = np.clip(0.5 + (test_data[label].values.squeeze()-positive_threshold), 0, 1)\n",
    "y_test_soft[:,0] = 1 - y_test_soft[:,1]"
   ]
  },
  {
   "cell_type": "code",
   "execution_count": 20,
   "metadata": {},
   "outputs": [
    {
     "name": "stdout",
     "output_type": "stream",
     "text": [
      "Positive ratio in train set: 0.04893900042177017\n",
      "Positive ratio in val set: 0.032178778740390816\n",
      "Positive ratio in test set: 0.032124593728161156\n"
     ]
    }
   ],
   "source": [
    "print(f'Positive ratio in train set: {np.sum(y_train) / y_train.size}')\n",
    "print(f'Positive ratio in val set: {np.sum(y_val) / y_val.size}')\n",
    "print(f'Positive ratio in test set: {np.sum(y_test) / y_test.size}')"
   ]
  },
  {
   "cell_type": "markdown",
   "metadata": {},
   "source": [
    "## Helper function"
   ]
  },
  {
   "cell_type": "code",
   "execution_count": 21,
   "metadata": {},
   "outputs": [],
   "source": [
    "def plot_roc_from_fpr_tpr(fpr, tpr):\n",
    "    lw = 2\n",
    "    roc_auc = auc(fpr, tpr)\n",
    "    #plt.figure(figsize=(5,5))\n",
    "    plt.plot(fpr, tpr, color='darkorange', lw=lw, label='(AUC = %0.3f)' % (roc_auc))\n",
    "    #plt.plot([eer], [1-eer], marker='o', markersize=5, color=\"navy\")\n",
    "    #plt.plot([0, 1], [1, 0], color='navy', lw=1, linestyle=':')\n",
    "    plt.xlim([0.0, 1.0])\n",
    "    plt.ylim([0.0, 1.05])\n",
    "    plt.xlabel('False Positive Rate')\n",
    "    plt.ylabel('True Positive Rate')\n",
    "    plt.title('Receiver Operating Characteristic Curve')\n",
    "    plt.legend(loc=\"lower right\")"
   ]
  },
  {
   "cell_type": "markdown",
   "metadata": {},
   "source": [
    "# Dataset and Dataloader (PyTorch)"
   ]
  },
  {
   "cell_type": "code",
   "execution_count": 22,
   "metadata": {},
   "outputs": [],
   "source": [
    "class Dataset(torch.utils.data.Dataset):\n",
    "  'Characterizes a dataset for PyTorch'\n",
    "  def __init__(self, data, labels):\n",
    "        'Initialization'\n",
    "        self.data = torch.from_numpy(data)\n",
    "        self.labels = torch.from_numpy(labels.squeeze())\n",
    "\n",
    "  def __len__(self):\n",
    "        'Denotes the total number of samples'\n",
    "        return len(self.data)\n",
    "\n",
    "  def __getitem__(self, index):\n",
    "        'Generates one sample of data'\n",
    "        # Select sample\n",
    "        # Load data and get label\n",
    "        X = self.data[index]\n",
    "        y = self.labels[index]\n",
    "\n",
    "        return X, y"
   ]
  },
  {
   "cell_type": "code",
   "execution_count": 23,
   "metadata": {},
   "outputs": [],
   "source": [
    "class Dataset_indexed(torch.utils.data.Dataset):\n",
    "  'Characterizes a dataset for PyTorch'\n",
    "  def __init__(self, data, labels, ind):\n",
    "        'Initialization'\n",
    "        self.data = torch.from_numpy(data)\n",
    "        self.labels = torch.from_numpy(labels.squeeze())\n",
    "        self.ind = torch.from_numpy(ind.squeeze())\n",
    "\n",
    "  def __len__(self):\n",
    "        'Denotes the total number of samples'\n",
    "        return len(self.data)\n",
    "\n",
    "  def __getitem__(self, index):\n",
    "        'Generates one sample of data'\n",
    "        # Select sample\n",
    "        # Load data and get label\n",
    "        X = self.data[index]\n",
    "        y = self.labels[index]\n",
    "        i = self.ind[index]\n",
    "\n",
    "        return X, y, i"
   ]
  },
  {
   "cell_type": "code",
   "execution_count": 24,
   "metadata": {},
   "outputs": [],
   "source": [
    "params = {'batch_size': 1024,\n",
    "          'shuffle': True,\n",
    "          'num_workers': 0,\n",
    "          'pin_memory': True,\n",
    "        }"
   ]
  },
  {
   "cell_type": "code",
   "execution_count": 25,
   "metadata": {},
   "outputs": [],
   "source": [
    "train_set = Dataset(X_train, y_train)\n",
    "train_set_soft = Dataset(X_train, y_train_soft)\n",
    "train_loader = torch.utils.data.DataLoader(train_set, **params)\n",
    "train_loader_soft = torch.utils.data.DataLoader(train_set_soft, **params)\n",
    "\n",
    "val_set = Dataset(X_val, y_val)\n",
    "val_set_soft = Dataset(X_val, y_val_soft)\n",
    "val_loader = torch.utils.data.DataLoader(val_set, **params)\n",
    "val_loader_soft = torch.utils.data.DataLoader(val_set_soft, **params)\n",
    "\n",
    "test_set = Dataset(X_test, y_test)\n",
    "test_set_soft = Dataset(X_test, y_test_soft)\n",
    "test_loader = torch.utils.data.DataLoader(test_set, **params)\n",
    "test_loader_soft = torch.utils.data.DataLoader(test_set_soft, **params)"
   ]
  },
  {
   "cell_type": "markdown",
   "metadata": {},
   "source": [
    "# MLP Model (PyTorch)"
   ]
  },
  {
   "cell_type": "code",
   "execution_count": 26,
   "metadata": {
    "scrolled": true
   },
   "outputs": [],
   "source": [
    "# For reading, visualizing, and preprocessing data\n",
    "import numpy as np\n",
    "import pandas as pd\n",
    "import seaborn as sns\n",
    "import matplotlib.pyplot as plt\n",
    "from sklearn.datasets import make_classification\n",
    "from sklearn.feature_selection import RFE, RFECV\n",
    "from sklearn.model_selection import train_test_split, GridSearchCV, KFold\n",
    "from sklearn.pipeline import Pipeline\n",
    "from sklearn import metrics\n",
    "from sklearn.pipeline import Pipeline, FeatureUnion\n",
    "from sklearn.pipeline import make_pipeline\n",
    "from sklearn.preprocessing import StandardScaler\n",
    "import matplotlib.pyplot as plt\n",
    "from sklearn import datasets\n",
    "from sklearn.ensemble import GradientBoostingClassifier"
   ]
  },
  {
   "cell_type": "markdown",
   "metadata": {},
   "source": [
    "### Define model"
   ]
  },
  {
   "cell_type": "code",
   "execution_count": 27,
   "metadata": {},
   "outputs": [],
   "source": [
    "# define \"soft\" cross-entropy with pytorch tensor operations\n",
    "class softXEnt(nn.Module):\n",
    "    def __init__(self):\n",
    "        super(softXEnt, self).__init__()\n",
    "\n",
    "    def forward (self, input, target):\n",
    "        logprobs = torch.nn.functional.log_softmax (input, dim = 1)\n",
    "        return  -(target * logprobs).sum() / input.shape[0]"
   ]
  },
  {
   "cell_type": "code",
   "execution_count": 28,
   "metadata": {},
   "outputs": [],
   "source": [
    "class Net(nn.Module):\n",
    "    def __init__(self, num_inputs, action_space, hidden_size1=40, hidden_size2=20):\n",
    "        super(Net, self).__init__()\n",
    "        self.action_space = action_space\n",
    "        num_outputs = action_space\n",
    "\n",
    "        self.linear1 = nn.Linear(num_inputs, hidden_size1)\n",
    "        self.linear2 = nn.Linear(hidden_size1, hidden_size2)\n",
    "        self.linear3 = nn.Linear(hidden_size2, num_outputs)\n",
    "        self.bn1 = nn.BatchNorm1d(hidden_size1)\n",
    "        self.bn2 = nn.BatchNorm1d(hidden_size2)\n",
    "\n",
    "    def forward(self, inputs):\n",
    "        x = inputs\n",
    "        x = self.bn1(F.relu(self.linear1(x)))\n",
    "        x = self.bn2(F.relu(self.linear2(x)))\n",
    "        out = self.linear3(x)\n",
    "\n",
    "        return out"
   ]
  },
  {
   "cell_type": "code",
   "execution_count": 29,
   "metadata": {},
   "outputs": [],
   "source": [
    "def train(model, device, train_loader, criterion, optimizer, epoch):\n",
    "    model.train()\n",
    "    for batch_idx, (data, target) in enumerate(train_loader):\n",
    "        data, target = data.to(device), target.to(device)\n",
    "        optimizer.zero_grad()\n",
    "        output = model(data)\n",
    "        loss = criterion(output, target)\n",
    "        loss.backward()\n",
    "        optimizer.step()\n",
    "        \n",
    "def train_indexed(model, device, train_loader, criterion, optimizer, epoch, sample_weight):\n",
    "    model.train()\n",
    "    for batch_idx, (data, target, index) in enumerate(train_loader):\n",
    "        data, target, index = data.to(device), target.to(device), index.to(device)\n",
    "        optimizer.zero_grad()\n",
    "        output = model(data)\n",
    "        loss = criterion(output, target)\n",
    "        # reduction = 'none', to add in SR\n",
    "        w = torch.from_numpy(sample_weight)\n",
    "        #print(loss.size())\n",
    "        #print(w[index].size())\n",
    "        loss = (loss * w[index]).sum()/w[index].sum()\n",
    "        loss.backward()\n",
    "        optimizer.step()\n",
    "\n",
    "def test(model, device, test_loader, criterion):\n",
    "    model.eval()\n",
    "    test_loss = 0\n",
    "    correct = 0\n",
    "    \n",
    "    label_gt = []\n",
    "    label_pred = []\n",
    "    label_pred_score = []\n",
    "    \n",
    "    with torch.no_grad():\n",
    "        for data, target in test_loader:\n",
    "            data, target = data.to(device), target.to(device)\n",
    "            output = model(data)\n",
    "            test_loss += criterion(output, target).item() * len(output)  # sum up batch loss\n",
    "            pred = output.argmax(dim=1, keepdim=True)  # get the index of the max log-probability\n",
    "\n",
    "            if len(target.shape) > 1:\n",
    "                target = target.argmax(dim=1, keepdim=False)\n",
    "            correct += pred.eq(target.view_as(pred)).sum().item()\n",
    "            \n",
    "            label_gt += list(target.cpu().numpy())\n",
    "            label_pred += list(pred.cpu().numpy())\n",
    "            label_pred_score += list(output[:,1].cpu().numpy())\n",
    "\n",
    "    test_loss /= len(test_loader.dataset)\n",
    "\n",
    "    accuracy = correct / len(test_loader.dataset)\n",
    "        \n",
    "    \n",
    "    fpr, tpr, _ = roc_curve(label_gt, label_pred_score)\n",
    "    roc_auc = auc(fpr, tpr) \n",
    "    \n",
    "    return (test_loss, accuracy, roc_auc, fpr, tpr)"
   ]
  },
  {
   "cell_type": "code",
   "execution_count": 30,
   "metadata": {},
   "outputs": [
    {
     "name": "stderr",
     "output_type": "stream",
     "text": [
      "/home/jjyang/.local/lib/python3.7/site-packages/torch/cuda/__init__.py:52: UserWarning: CUDA initialization: Found no NVIDIA driver on your system. Please check that you have an NVIDIA GPU and installed a driver from http://www.nvidia.com/Download/index.aspx (Triggered internally at  /pytorch/c10/cuda/CUDAFunctions.cpp:100.)\n",
      "  return torch._C._cuda_getDeviceCount() > 0\n"
     ]
    }
   ],
   "source": [
    "# CUDA for PyTorch\n",
    "use_cuda = torch.cuda.is_available()\n",
    "device = torch.device(\"cuda:0\" if use_cuda else \"cpu\")\n",
    "torch.backends.cudnn.benchmark = True\n",
    "input_dim = X_train.shape[1]\n",
    "output_dim = 2\n",
    "max_epochs = 10"
   ]
  },
  {
   "cell_type": "markdown",
   "metadata": {},
   "source": [
    "### Initialize Sample Reweighting & Feature Selection"
   ]
  },
  {
   "cell_type": "code",
   "execution_count": 31,
   "metadata": {},
   "outputs": [],
   "source": [
    "from sample_reweight import SampleReweight\n",
    "from featureSelection import featureSelection"
   ]
  },
  {
   "cell_type": "code",
   "execution_count": 32,
   "metadata": {},
   "outputs": [],
   "source": [
    "LIMITED_SAMPLE = False\n",
    "EXAMPLES = 40000 if LIMITED_SAMPLE else X_train.shape[0]\n",
    "\n",
    "# number of submodels\n",
    "K = 5\n",
    "\n",
    "# initialize sample weights and parameters\n",
    "w = np.ones(X_train.shape[0])[:EXAMPLES]\n",
    "\n",
    "ALPHA_1 = 1\n",
    "ALPHA_2 = 1\n",
    "NUM_BINS = 10\n",
    "GAMMA = 0.9\n",
    "\n",
    "# initialize feature selection parameters\n",
    "NUM_BINS_FS = 5\n",
    "ratio = [0.95, 0.85, 0.75, 0.65, 0.55]\n",
    "feature_selected = np.arange(len(feature_set))"
   ]
  },
  {
   "cell_type": "markdown",
   "metadata": {},
   "source": [
    "## Train with Hard Labels"
   ]
  },
  {
   "cell_type": "markdown",
   "metadata": {},
   "source": [
    "### Single model"
   ]
  },
  {
   "cell_type": "code",
   "execution_count": 33,
   "metadata": {},
   "outputs": [
    {
     "data": {
      "application/vnd.jupyter.widget-view+json": {
       "model_id": "754b402d870b4734a810ab3acbac35a4",
       "version_major": 2,
       "version_minor": 0
      },
      "text/plain": [
       "HBox(children=(HTML(value=''), FloatProgress(value=0.0, max=10.0), HTML(value='')))"
      ]
     },
     "metadata": {},
     "output_type": "display_data"
    },
    {
     "name": "stdout",
     "output_type": "stream",
     "text": [
      "\n"
     ]
    }
   ],
   "source": [
    "model_single = Net(input_dim, output_dim).to(device)\n",
    "optimizer = optim.AdamW(model_single.parameters(), lr=0.0006, betas=(0.9, 0.999), eps=1e-08, weight_decay=0.01, amsgrad=False)\n",
    "#criterion = softXEnt().to(device)\n",
    "criterion = nn.CrossEntropyLoss()\n",
    "scheduler = StepLR(optimizer, step_size=1, gamma=0.7)\n",
    "\n",
    "train_roc_auc_list = []\n",
    "val_roc_auc_list = []\n",
    "\n",
    "for epoch in tqdm(range(max_epochs)):\n",
    "    train(model_single, device, train_loader, criterion, optimizer, epoch)\n",
    "    (train_loss, train_accuracy, train_roc_auc, train_fpr, train_tpr) = test(model_single, device, train_loader, criterion)\n",
    "    (val_loss, val_accuracy, val_roc_auc, val_fpr, val_tpr) = test(model_single, device, val_loader, criterion)\n",
    "    train_roc_auc_list.append(train_roc_auc)\n",
    "    val_roc_auc_list.append(val_roc_auc)\n",
    "    scheduler.step()"
   ]
  },
  {
   "cell_type": "code",
   "execution_count": 34,
   "metadata": {},
   "outputs": [
    {
     "data": {
      "image/png": "[encoded data removed]",
      "text/plain": [
       "<Figure size 720x360 with 2 Axes>"
      ]
     },
     "metadata": {
      "needs_background": "light"
     },
     "output_type": "display_data"
    }
   ],
   "source": [
    "plt.figure(figsize=(10,5))\n",
    "plt.subplot(1, 2, 1)\n",
    "plt.plot(train_roc_auc_list)\n",
    "plt.plot(val_roc_auc_list)\n",
    "plt.title('ROC AUC')\n",
    "plt.legend(['train','val'])\n",
    "plt.subplot(1, 2, 2)\n",
    "plot_roc_from_fpr_tpr(val_fpr, val_tpr)"
   ]
  },
  {
   "cell_type": "markdown",
   "metadata": {},
   "source": [
    "### 5 submodels"
   ]
  },
  {
   "cell_type": "code",
   "execution_count": 35,
   "metadata": {},
   "outputs": [],
   "source": [
    "clfs_5_sub = []\n",
    "optmzs_5_sub = []\n",
    "schedulers_5_sub = []"
   ]
  },
  {
   "cell_type": "code",
   "execution_count": 36,
   "metadata": {},
   "outputs": [
    {
     "data": {
      "application/vnd.jupyter.widget-view+json": {
       "model_id": "917fa1dda24a4ac7a7465c3f1824dc6d",
       "version_major": 2,
       "version_minor": 0
      },
      "text/plain": [
       "HBox(children=(HTML(value=''), FloatProgress(value=0.0, max=5.0), HTML(value='')))"
      ]
     },
     "metadata": {},
     "output_type": "display_data"
    },
    {
     "data": {
      "application/vnd.jupyter.widget-view+json": {
       "model_id": "023072fc5a6d4f7289344320000302ac",
       "version_major": 2,
       "version_minor": 0
      },
      "text/plain": [
       "HBox(children=(HTML(value=''), FloatProgress(value=0.0, max=10.0), HTML(value='')))"
      ]
     },
     "metadata": {},
     "output_type": "display_data"
    },
    {
     "name": "stdout",
     "output_type": "stream",
     "text": [
      "\n"
     ]
    },
    {
     "data": {
      "application/vnd.jupyter.widget-view+json": {
       "model_id": "e643a20ab03f419da86317398537da93",
       "version_major": 2,
       "version_minor": 0
      },
      "text/plain": [
       "HBox(children=(HTML(value=''), FloatProgress(value=0.0, max=10.0), HTML(value='')))"
      ]
     },
     "metadata": {},
     "output_type": "display_data"
    },
    {
     "name": "stdout",
     "output_type": "stream",
     "text": [
      "\n"
     ]
    },
    {
     "data": {
      "application/vnd.jupyter.widget-view+json": {
       "model_id": "5fad110529f64b83b91c61f24059d875",
       "version_major": 2,
       "version_minor": 0
      },
      "text/plain": [
       "HBox(children=(HTML(value=''), FloatProgress(value=0.0, max=10.0), HTML(value='')))"
      ]
     },
     "metadata": {},
     "output_type": "display_data"
    },
    {
     "name": "stdout",
     "output_type": "stream",
     "text": [
      "\n"
     ]
    },
    {
     "data": {
      "application/vnd.jupyter.widget-view+json": {
       "model_id": "65f751004dd44fc7ac3bef7b141fc3f4",
       "version_major": 2,
       "version_minor": 0
      },
      "text/plain": [
       "HBox(children=(HTML(value=''), FloatProgress(value=0.0, max=10.0), HTML(value='')))"
      ]
     },
     "metadata": {},
     "output_type": "display_data"
    },
    {
     "name": "stdout",
     "output_type": "stream",
     "text": [
      "\n"
     ]
    },
    {
     "data": {
      "application/vnd.jupyter.widget-view+json": {
       "model_id": "bd893c0416d74a5eae56289ebb0c9d30",
       "version_major": 2,
       "version_minor": 0
      },
      "text/plain": [
       "HBox(children=(HTML(value=''), FloatProgress(value=0.0, max=10.0), HTML(value='')))"
      ]
     },
     "metadata": {},
     "output_type": "display_data"
    },
    {
     "name": "stdout",
     "output_type": "stream",
     "text": [
      "\n",
      "\n"
     ]
    }
   ],
   "source": [
    "criterion = nn.CrossEntropyLoss()\n",
    "for i in tqdm(range(K)):\n",
    "    # initiate submodel\n",
    "    clfs_5_sub.append(Net(input_dim, output_dim).to(device))\n",
    "    optmzs_5_sub.append(optim.AdamW(clfs_5_sub[i].parameters(), lr=0.0006, betas=(0.9, 0.999), eps=1e-08, weight_decay=0.01, amsgrad=False))\n",
    "    schedulers_5_sub.append(StepLR(optmzs_5_sub[i], step_size=1, gamma=0.7))\n",
    "    \n",
    "    train_set = Dataset(X_train, y_train)\n",
    "    train_loader = torch.utils.data.DataLoader(train_set, **params)\n",
    "    \n",
    "    for epoch in tqdm(range(max_epochs)):\n",
    "        train(clfs_5_sub[i], device, train_loader, criterion, optmzs_5_sub[i], epoch)\n",
    "        schedulers_5_sub[i].step()"
   ]
  },
  {
   "cell_type": "markdown",
   "metadata": {},
   "source": [
    "### +SR"
   ]
  },
  {
   "cell_type": "code",
   "execution_count": 38,
   "metadata": {},
   "outputs": [],
   "source": [
    "clfs_SR = []\n",
    "optmzs_SR = []\n",
    "schedulers_SR = []\n",
    "w = np.ones(X_train.shape[0])[:EXAMPLES]"
   ]
  },
  {
   "cell_type": "code",
   "execution_count": 39,
   "metadata": {},
   "outputs": [
    {
     "data": {
      "application/vnd.jupyter.widget-view+json": {
       "model_id": "5c2c8be525f940cb8e4790bd4f8ce98f",
       "version_major": 2,
       "version_minor": 0
      },
      "text/plain": [
       "HBox(children=(HTML(value=''), FloatProgress(value=0.0, max=5.0), HTML(value='')))"
      ]
     },
     "metadata": {},
     "output_type": "display_data"
    },
    {
     "data": {
      "application/vnd.jupyter.widget-view+json": {
       "model_id": "74fc8867afa94466ab3cac3f165d0a6a",
       "version_major": 2,
       "version_minor": 0
      },
      "text/plain": [
       "HBox(children=(HTML(value=''), FloatProgress(value=0.0, max=10.0), HTML(value='')))"
      ]
     },
     "metadata": {},
     "output_type": "display_data"
    },
    {
     "name": "stdout",
     "output_type": "stream",
     "text": [
      "\n",
      "11.20050235237597\n"
     ]
    },
    {
     "data": {
      "application/vnd.jupyter.widget-view+json": {
       "model_id": "cb69e70a8209498aab6ab6221a9480bb",
       "version_major": 2,
       "version_minor": 0
      },
      "text/plain": [
       "HBox(children=(HTML(value=''), FloatProgress(value=0.0, max=10.0), HTML(value='')))"
      ]
     },
     "metadata": {},
     "output_type": "display_data"
    },
    {
     "name": "stdout",
     "output_type": "stream",
     "text": [
      "\n",
      "12.54864728438536\n"
     ]
    },
    {
     "data": {
      "application/vnd.jupyter.widget-view+json": {
       "model_id": "a14ff29392bb4b6db44e905fea53f5eb",
       "version_major": 2,
       "version_minor": 0
      },
      "text/plain": [
       "HBox(children=(HTML(value=''), FloatProgress(value=0.0, max=10.0), HTML(value='')))"
      ]
     },
     "metadata": {},
     "output_type": "display_data"
    },
    {
     "name": "stdout",
     "output_type": "stream",
     "text": [
      "\n",
      "11.63131137273972\n"
     ]
    },
    {
     "data": {
      "application/vnd.jupyter.widget-view+json": {
       "model_id": "fae7f5a755fd4961859a51d414da39a6",
       "version_major": 2,
       "version_minor": 0
      },
      "text/plain": [
       "HBox(children=(HTML(value=''), FloatProgress(value=0.0, max=10.0), HTML(value='')))"
      ]
     },
     "metadata": {},
     "output_type": "display_data"
    },
    {
     "name": "stdout",
     "output_type": "stream",
     "text": [
      "\n",
      "11.323203139482162\n"
     ]
    },
    {
     "data": {
      "application/vnd.jupyter.widget-view+json": {
       "model_id": "6d8acdc473c84c3792c59cfac6feccd1",
       "version_major": 2,
       "version_minor": 0
      },
      "text/plain": [
       "HBox(children=(HTML(value=''), FloatProgress(value=0.0, max=10.0), HTML(value='')))"
      ]
     },
     "metadata": {},
     "output_type": "display_data"
    },
    {
     "name": "stdout",
     "output_type": "stream",
     "text": [
      "\n",
      "12.365685896121152\n",
      "\n"
     ]
    }
   ],
   "source": [
    "criterion = nn.CrossEntropyLoss(reduction='none')\n",
    "\n",
    "for i in tqdm(range(K)):\n",
    "    # initiate submodel\n",
    "    clfs_SR.append(Net(input_dim, output_dim).to(device))\n",
    "    optmzs_SR.append(optim.AdamW(clfs_SR[i].parameters(), lr=0.0006, betas=(0.9, 0.999), eps=1e-08, weight_decay=0.01, amsgrad=False))\n",
    "    schedulers_SR.append(StepLR(optmzs_SR[i], step_size=1, gamma=0.7))\n",
    "    \n",
    "    staged_pred = []\n",
    "    train_set = Dataset_indexed(X_train, y_train, train_index)\n",
    "    train_loader = torch.utils.data.DataLoader(train_set, **params)\n",
    "    \n",
    "    for epoch in tqdm(range(max_epochs)):\n",
    "        train_indexed(clfs_SR[i], device, train_loader, criterion, optmzs_SR[i], epoch, sample_weight=w)\n",
    "        schedulers_SR[i].step()\n",
    "        with torch.no_grad():\n",
    "            X_pred = torch.from_numpy(X_train)\n",
    "            staged_pred.append((torch.nn.functional.log_softmax(clfs_SR[i](X_pred), dim = 1).numpy()))\n",
    "    # initialize sample reweighting\n",
    "    SR = SampleReweight(X_train, y_train, a1=ALPHA_1, a2=ALPHA_2, b=NUM_BINS, gamma=GAMMA)\n",
    "    w = SR.reweight(clfs_SR[i], staged_pred)\n",
    "    print(np.max(w))"
   ]
  },
  {
   "cell_type": "markdown",
   "metadata": {},
   "source": [
    "### +SR+FS"
   ]
  },
  {
   "cell_type": "code",
   "execution_count": 41,
   "metadata": {},
   "outputs": [],
   "source": [
    "clfs_SR_FS = []\n",
    "optmzs_SR_FS = []\n",
    "schedulers_SR_FS = []\n",
    "w = np.ones(X_train.shape[0])[:EXAMPLES]"
   ]
  },
  {
   "cell_type": "code",
   "execution_count": 42,
   "metadata": {},
   "outputs": [
    {
     "data": {
      "application/vnd.jupyter.widget-view+json": {
       "model_id": "21db05307a1047a885248ea65bc23024",
       "version_major": 2,
       "version_minor": 0
      },
      "text/plain": [
       "HBox(children=(HTML(value=''), FloatProgress(value=0.0, max=5.0), HTML(value='')))"
      ]
     },
     "metadata": {},
     "output_type": "display_data"
    },
    {
     "data": {
      "application/vnd.jupyter.widget-view+json": {
       "model_id": "289151dc029b42ba8b09bd2c80da083b",
       "version_major": 2,
       "version_minor": 0
      },
      "text/plain": [
       "HBox(children=(HTML(value=''), FloatProgress(value=0.0, max=10.0), HTML(value='')))"
      ]
     },
     "metadata": {},
     "output_type": "display_data"
    },
    {
     "name": "stdout",
     "output_type": "stream",
     "text": [
      "\n",
      "12.142133209939747\n",
      "[ 0  1  2  4  6  8  9 10 11 12 13 14 17 18 20 22 23 25 26 27 28 29 30 31\n",
      " 32 33 34 35 36 37 38 39 40 44 45 49 51 53 54 55 56 58 59 60 61 62 63 66\n",
      " 67 68 69 70 71 72 73 74 75 76 78 79]\n"
     ]
    },
    {
     "data": {
      "application/vnd.jupyter.widget-view+json": {
       "model_id": "b7d5c349440d4f019be4f514a09ab445",
       "version_major": 2,
       "version_minor": 0
      },
      "text/plain": [
       "HBox(children=(HTML(value=''), FloatProgress(value=0.0, max=10.0), HTML(value='')))"
      ]
     },
     "metadata": {},
     "output_type": "display_data"
    },
    {
     "name": "stdout",
     "output_type": "stream",
     "text": [
      "\n",
      "12.318012685402833\n",
      "[ 0  2  4  6  9 10 13 14 18 20 22 23 26 27 28 29 30 31 32 33 34 35 39 40\n",
      " 45 49 51 53 54 55 59 61 62 63 67 68 69 70 71 72 73 74 76 78 79]\n"
     ]
    },
    {
     "data": {
      "application/vnd.jupyter.widget-view+json": {
       "model_id": "395783a3ef99443ca1b432e5991960ac",
       "version_major": 2,
       "version_minor": 0
      },
      "text/plain": [
       "HBox(children=(HTML(value=''), FloatProgress(value=0.0, max=10.0), HTML(value='')))"
      ]
     },
     "metadata": {},
     "output_type": "display_data"
    },
    {
     "name": "stdout",
     "output_type": "stream",
     "text": [
      "\n",
      "11.723740026253443\n",
      "[ 2  4  6  9 13 14 18 20 22 26 27 28 29 31 32 33 34 35 39 49 51 55 61 62\n",
      " 63 67 68 69 70 71 72 74 76 78 79]\n"
     ]
    },
    {
     "data": {
      "application/vnd.jupyter.widget-view+json": {
       "model_id": "199b6f82229d437ca9f1e73091cef7dd",
       "version_major": 2,
       "version_minor": 0
      },
      "text/plain": [
       "HBox(children=(HTML(value=''), FloatProgress(value=0.0, max=10.0), HTML(value='')))"
      ]
     },
     "metadata": {},
     "output_type": "display_data"
    },
    {
     "name": "stdout",
     "output_type": "stream",
     "text": [
      "\n",
      "13.325795530647476\n",
      "[ 2  4  9 13 14 20 22 26 28 29 31 33 35 49 55 61 62 63 68 69 70 71 72 74\n",
      " 76 78 79]\n"
     ]
    },
    {
     "data": {
      "application/vnd.jupyter.widget-view+json": {
       "model_id": "4b98e6d81bb24b8e9ab8ee9b98daa631",
       "version_major": 2,
       "version_minor": 0
      },
      "text/plain": [
       "HBox(children=(HTML(value=''), FloatProgress(value=0.0, max=10.0), HTML(value='')))"
      ]
     },
     "metadata": {},
     "output_type": "display_data"
    },
    {
     "name": "stdout",
     "output_type": "stream",
     "text": [
      "\n",
      "10.880163490394706\n",
      "[ 2  4  9 26 28 29 33 35 49 55 62 63 68 69 70 71 74 76 78 79]\n",
      "\n"
     ]
    }
   ],
   "source": [
    "feature_selected = np.arange(len(feature_set))\n",
    "criterion = nn.CrossEntropyLoss(reduction='none')\n",
    "list_feature_selected_SR_FS = []\n",
    "list_feature_selected_SR_FS.append(feature_selected.copy())\n",
    "\n",
    "for i in tqdm(range(K)):\n",
    "    # initiate submodel\n",
    "    input_dim = feature_selected.shape[0]\n",
    "    clfs_SR_FS.append(Net(input_dim, output_dim).to(device))\n",
    "    optmzs_SR_FS.append(optim.AdamW(clfs_SR_FS[i].parameters(), lr=0.0006, betas=(0.9, 0.999), eps=1e-08, weight_decay=0.01, amsgrad=False))\n",
    "    schedulers_SR_FS.append(StepLR(optmzs_SR_FS[i], step_size=1, gamma=0.7))\n",
    "    \n",
    "    staged_pred = []\n",
    "    train_set = Dataset_indexed(X_train[:, feature_selected], y_train, train_index)\n",
    "    train_loader = torch.utils.data.DataLoader(train_set, **params)\n",
    "    \n",
    "    for epoch in tqdm(range(max_epochs)):\n",
    "        train_indexed(clfs_SR_FS[i], device, train_loader, criterion, optmzs_SR_FS[i], epoch, sample_weight=w)\n",
    "        schedulers_SR_FS[i].step()\n",
    "        with torch.no_grad():\n",
    "            X_pred = torch.from_numpy(X_train[:,feature_selected])\n",
    "            staged_pred.append((torch.nn.functional.log_softmax(clfs_SR_FS[i](X_pred), dim = 1).numpy()))\n",
    "    # initialize sample reweighting\n",
    "    SR = SampleReweight(X_train[:, feature_selected], y_train, a1=ALPHA_1, a2=ALPHA_2, b=NUM_BINS, gamma=GAMMA)\n",
    "    w = SR.reweight(clfs_SR_FS[i], staged_pred)\n",
    "    print(np.max(w))\n",
    "    \n",
    "    #feature selection\n",
    "    feature_selected_index = featureSelection(clfs_SR_FS[i], X_val[:, feature_selected], y_val, NUM_BINS_FS, ratio)\n",
    "    feature_selected = feature_selected[feature_selected_index]\n",
    "    print(feature_selected)\n",
    "    list_feature_selected_SR_FS.append(feature_selected.copy())"
   ]
  },
  {
   "cell_type": "markdown",
   "metadata": {},
   "source": [
    "### +correlated FS"
   ]
  },
  {
   "cell_type": "code",
   "execution_count": 47,
   "metadata": {},
   "outputs": [],
   "source": [
    "clfs_TFS = []\n",
    "optmzs_TFS = []\n",
    "schedulers_TFS = []\n",
    "w = np.ones(X_train.shape[0])[:EXAMPLES]"
   ]
  },
  {
   "cell_type": "code",
   "execution_count": 48,
   "metadata": {},
   "outputs": [
    {
     "data": {
      "application/vnd.jupyter.widget-view+json": {
       "model_id": "c6e4a83f25cc4c439dc9e506a03629f4",
       "version_major": 2,
       "version_minor": 0
      },
      "text/plain": [
       "HBox(children=(HTML(value=''), FloatProgress(value=0.0, max=5.0), HTML(value='')))"
      ]
     },
     "metadata": {},
     "output_type": "display_data"
    },
    {
     "data": {
      "application/vnd.jupyter.widget-view+json": {
       "model_id": "21afd680b4dd4e988f0b8e873ceae845",
       "version_major": 2,
       "version_minor": 0
      },
      "text/plain": [
       "HBox(children=(HTML(value=''), FloatProgress(value=0.0, max=10.0), HTML(value='')))"
      ]
     },
     "metadata": {},
     "output_type": "display_data"
    },
    {
     "name": "stdout",
     "output_type": "stream",
     "text": [
      "\n",
      "[ 0  1  2  3  4  5  6  7  8  9 10 11 12 13 14 15 17 22 23 29 27 32 35 40\n",
      " 37 42 43 44 45 46 47 52 50 51 57 54 55 62 65 71 72 73 74 75 76 78]\n"
     ]
    },
    {
     "data": {
      "application/vnd.jupyter.widget-view+json": {
       "model_id": "c06bf82456c44f90a333af1c15aa6ad4",
       "version_major": 2,
       "version_minor": 0
      },
      "text/plain": [
       "HBox(children=(HTML(value=''), FloatProgress(value=0.0, max=10.0), HTML(value='')))"
      ]
     },
     "metadata": {},
     "output_type": "display_data"
    },
    {
     "name": "stdout",
     "output_type": "stream",
     "text": [
      "\n",
      "[ 0  1  2  3  4  5  6  7  8  9 10 11 12 13 14 15 17 22 23 29 27 35 40 37\n",
      " 42 43 44 45 46 47 52 50 51 54 55 65 71 72 73 74 75 76]\n"
     ]
    },
    {
     "data": {
      "application/vnd.jupyter.widget-view+json": {
       "model_id": "ca490f4fbf7045c18d911ef341694b02",
       "version_major": 2,
       "version_minor": 0
      },
      "text/plain": [
       "HBox(children=(HTML(value=''), FloatProgress(value=0.0, max=10.0), HTML(value='')))"
      ]
     },
     "metadata": {},
     "output_type": "display_data"
    },
    {
     "name": "stdout",
     "output_type": "stream",
     "text": [
      "\n",
      "[ 0  1  2  3  4  5  6  7  8  9 10 11 12 13 14 15 17 22 23 29 27 35 40 37\n",
      " 42 43 44 45 46 47 52 50 51 54 55 65 71 72 73 74 75]\n"
     ]
    },
    {
     "data": {
      "application/vnd.jupyter.widget-view+json": {
       "model_id": "ef906cda7e0c4c138493cc73e4a79645",
       "version_major": 2,
       "version_minor": 0
      },
      "text/plain": [
       "HBox(children=(HTML(value=''), FloatProgress(value=0.0, max=10.0), HTML(value='')))"
      ]
     },
     "metadata": {},
     "output_type": "display_data"
    },
    {
     "name": "stdout",
     "output_type": "stream",
     "text": [
      "\n",
      "[ 0  1  2  3  4  5  6  7  8  9 10 11 12 13 14 15 17 22 23 29 27 35 40 37\n",
      " 42 43 44 45 46 47 52 50 51 54 55 65 71 72 73 74]\n"
     ]
    },
    {
     "data": {
      "application/vnd.jupyter.widget-view+json": {
       "model_id": "3618e883335b46659fe44022a0030b81",
       "version_major": 2,
       "version_minor": 0
      },
      "text/plain": [
       "HBox(children=(HTML(value=''), FloatProgress(value=0.0, max=10.0), HTML(value='')))"
      ]
     },
     "metadata": {},
     "output_type": "display_data"
    },
    {
     "name": "stdout",
     "output_type": "stream",
     "text": [
      "\n",
      "[ 0  1  2  3  4  5  6  7  8  9 10 11 12 13 14 15 17 22 23 29 27 35 40 37\n",
      " 42 43 44 45 46 47 52 50 51 54 55 65 71 72 73]\n",
      "\n"
     ]
    }
   ],
   "source": [
    "feature_selected = np.arange(len(feature_set))\n",
    "from utils import filter_by_corr\n",
    "criterion = nn.CrossEntropyLoss(reduction='none')\n",
    "list_feature_selected_TFS = []\n",
    "list_feature_selected_TFS.append(feature_selected.copy())\n",
    "\n",
    "for i in tqdm(range(K)):\n",
    "    # initiate submodel\n",
    "    input_dim = feature_selected.shape[0]\n",
    "    clfs_TFS.append(Net(input_dim, output_dim).to(device))\n",
    "    optmzs_TFS.append(optim.AdamW(clfs_TFS[i].parameters(), lr=0.0006, betas=(0.9, 0.999), eps=1e-08, weight_decay=0.01, amsgrad=False))\n",
    "    schedulers_TFS.append(StepLR(optmzs_TFS[i], step_size=1, gamma=0.7))\n",
    "    \n",
    "    train_set = Dataset_indexed(X_train[:, feature_selected], y_train, train_index)\n",
    "    train_loader = torch.utils.data.DataLoader(train_set, **params)\n",
    "    \n",
    "    for epoch in tqdm(range(max_epochs)):\n",
    "        train_indexed(clfs_TFS[i], device, train_loader, criterion, optmzs_TFS[i], epoch, sample_weight=w)\n",
    "        schedulers_TFS[i].step()\n",
    "    \n",
    "    #feature selection\n",
    "    feature_selected_index = filter_by_corr(X_train[:, feature_selected])\n",
    "    feature_selected = feature_selected[feature_selected_index]\n",
    "    print(feature_selected)\n",
    "    list_feature_selected_TFS.append(feature_selected.copy())"
   ]
  },
  {
   "cell_type": "markdown",
   "metadata": {},
   "source": [
    "### +FS"
   ]
  },
  {
   "cell_type": "code",
   "execution_count": 50,
   "metadata": {},
   "outputs": [],
   "source": [
    "clfs_FS = []\n",
    "optmzs_FS = []\n",
    "schedulers_FS = []\n",
    "w = np.ones(X_train.shape[0])[:EXAMPLES]"
   ]
  },
  {
   "cell_type": "code",
   "execution_count": 51,
   "metadata": {},
   "outputs": [
    {
     "data": {
      "application/vnd.jupyter.widget-view+json": {
       "model_id": "bbdd2bca98fb4617996c05d2d462cb64",
       "version_major": 2,
       "version_minor": 0
      },
      "text/plain": [
       "HBox(children=(HTML(value=''), FloatProgress(value=0.0, max=5.0), HTML(value='')))"
      ]
     },
     "metadata": {},
     "output_type": "display_data"
    },
    {
     "data": {
      "application/vnd.jupyter.widget-view+json": {
       "model_id": "77fa60fc74e24ed9aa4d93e91eed90dc",
       "version_major": 2,
       "version_minor": 0
      },
      "text/plain": [
       "HBox(children=(HTML(value=''), FloatProgress(value=0.0, max=10.0), HTML(value='')))"
      ]
     },
     "metadata": {},
     "output_type": "display_data"
    },
    {
     "name": "stdout",
     "output_type": "stream",
     "text": [
      "\n",
      "[ 1  2  3  4  6  9 10 12 13 14 15 16 17 22 23 24 25 26 27 28 29 30 31 32\n",
      " 33 34 35 36 38 39 40 43 44 46 47 48 50 51 52 54 55 56 57 60 61 62 63 64\n",
      " 66 68 69 71 72 73 74 75 76 77 78 79]\n"
     ]
    },
    {
     "data": {
      "application/vnd.jupyter.widget-view+json": {
       "model_id": "b511eb5a3c01449bb9a0b17f602d5d56",
       "version_major": 2,
       "version_minor": 0
      },
      "text/plain": [
       "HBox(children=(HTML(value=''), FloatProgress(value=0.0, max=10.0), HTML(value='')))"
      ]
     },
     "metadata": {},
     "output_type": "display_data"
    },
    {
     "name": "stdout",
     "output_type": "stream",
     "text": [
      "\n",
      "[ 1  2  3  4  9 10 12 13 14 23 25 26 27 28 31 32 33 34 35 36 40 43 44 46\n",
      " 47 48 50 51 52 54 57 60 62 66 68 69 71 72 73 74 75 76 77 78 79]\n"
     ]
    },
    {
     "data": {
      "application/vnd.jupyter.widget-view+json": {
       "model_id": "045f6daf2c8a4d239ad0e561db718239",
       "version_major": 2,
       "version_minor": 0
      },
      "text/plain": [
       "HBox(children=(HTML(value=''), FloatProgress(value=0.0, max=10.0), HTML(value='')))"
      ]
     },
     "metadata": {},
     "output_type": "display_data"
    },
    {
     "name": "stdout",
     "output_type": "stream",
     "text": [
      "\n",
      "[ 1  2  4  9 10 12 13 14 23 25 26 27 28 31 32 33 34 35 46 47 51 52 57 60\n",
      " 62 66 68 69 71 72 74 76 77 78 79]\n"
     ]
    },
    {
     "data": {
      "application/vnd.jupyter.widget-view+json": {
       "model_id": "8b4c0906a3d445aba2f46efb10dc7215",
       "version_major": 2,
       "version_minor": 0
      },
      "text/plain": [
       "HBox(children=(HTML(value=''), FloatProgress(value=0.0, max=10.0), HTML(value='')))"
      ]
     },
     "metadata": {},
     "output_type": "display_data"
    },
    {
     "name": "stdout",
     "output_type": "stream",
     "text": [
      "\n",
      "[ 1  9 10 13 14 23 25 27 28 31 32 33 51 52 57 60 62 66 68 69 71 72 74 76\n",
      " 77 78 79]\n"
     ]
    },
    {
     "data": {
      "application/vnd.jupyter.widget-view+json": {
       "model_id": "94427abd6c02470eb88088fc770efd9a",
       "version_major": 2,
       "version_minor": 0
      },
      "text/plain": [
       "HBox(children=(HTML(value=''), FloatProgress(value=0.0, max=10.0), HTML(value='')))"
      ]
     },
     "metadata": {},
     "output_type": "display_data"
    },
    {
     "name": "stdout",
     "output_type": "stream",
     "text": [
      "\n",
      "[ 1  9 23 25 27 28 33 52 57 60 66 68 69 71 72 74 76 77 78 79]\n",
      "\n"
     ]
    }
   ],
   "source": [
    "feature_selected = np.arange(len(feature_set))\n",
    "criterion = nn.CrossEntropyLoss(reduction='none')\n",
    "list_feature_selected_FS = []\n",
    "list_feature_selected_FS.append(feature_selected.copy())\n",
    "\n",
    "for i in tqdm(range(K)):\n",
    "    # initiate submodel\n",
    "    input_dim = feature_selected.shape[0]\n",
    "    clfs_FS.append(Net(input_dim, output_dim).to(device))\n",
    "    optmzs_FS.append(optim.AdamW(clfs_FS[i].parameters(), lr=0.0006, betas=(0.9, 0.999), eps=1e-08, weight_decay=0.01, amsgrad=False))\n",
    "    schedulers_FS.append(StepLR(optmzs_FS[i], step_size=1, gamma=0.7))\n",
    "    \n",
    "    train_set = Dataset_indexed(X_train[:, feature_selected], y_train, train_index)\n",
    "    train_loader = torch.utils.data.DataLoader(train_set, **params)\n",
    "    \n",
    "    for epoch in tqdm(range(max_epochs)):\n",
    "        train_indexed(clfs_FS[i], device, train_loader, criterion, optmzs_FS[i], epoch, sample_weight=w)\n",
    "        schedulers_FS[i].step()\n",
    "    \n",
    "    #feature selection\n",
    "    feature_selected_index = featureSelection(clfs_FS[i], X_val[:, feature_selected], y_val, NUM_BINS_FS, ratio)\n",
    "    feature_selected = feature_selected[feature_selected_index]\n",
    "    print(feature_selected)\n",
    "    list_feature_selected_FS.append(feature_selected.copy())"
   ]
  },
  {
   "cell_type": "markdown",
   "metadata": {},
   "source": [
    "## Evaluate Model"
   ]
  },
  {
   "cell_type": "code",
   "execution_count": 52,
   "metadata": {},
   "outputs": [
    {
     "name": "stdout",
     "output_type": "stream",
     "text": [
      "1\n",
      "(1, 180298)\n",
      "[-2.2954729 -1.39586   -1.4342157 ... -1.565032  -1.9195309 -1.8876019]\n"
     ]
    }
   ],
   "source": [
    "decision_list = []\n",
    "model_single.eval()\n",
    "with torch.no_grad():\n",
    "        X_test_tensor = torch.from_numpy(X_test)\n",
    "        decision_list.append((model_single(X_test_tensor)).numpy()[:,1])\n",
    "print(len(decision_list))\n",
    "print(np.asarray(decision_list).shape)\n",
    "y_score_single = np.mean(np.asarray(decision_list), axis = 0)\n",
    "print(y_score_single)"
   ]
  },
  {
   "cell_type": "code",
   "execution_count": 53,
   "metadata": {},
   "outputs": [
    {
     "name": "stdout",
     "output_type": "stream",
     "text": [
      "5\n",
      "(5, 180298)\n",
      "[-2.194398  -1.8388174 -2.0262659 ... -1.9389045 -2.1727493 -2.280343 ]\n"
     ]
    }
   ],
   "source": [
    "decision_list = []\n",
    "for i in range(K):\n",
    "    clfs_5_sub[i].eval()\n",
    "    with torch.no_grad():\n",
    "        X_test_tensor = torch.from_numpy(X_test)\n",
    "        decision_list.append((clfs_5_sub[i](X_test_tensor)).numpy()[:,1])\n",
    "print(len(decision_list))\n",
    "print(np.asarray(decision_list).shape)\n",
    "y_score_5_sub = np.mean(np.asarray(decision_list), axis = 0)\n",
    "#y_score_5_sub = np.asarray(decision_list[4])\n",
    "print(y_score_5_sub)"
   ]
  },
  {
   "cell_type": "code",
   "execution_count": 66,
   "metadata": {},
   "outputs": [
    {
     "name": "stdout",
     "output_type": "stream",
     "text": [
      "5\n",
      "(5, 180298)\n",
      "[-2.3695178 -2.1177511 -2.238621  ... -2.4692805 -2.417571  -2.3896534]\n"
     ]
    }
   ],
   "source": [
    "decision_list = []\n",
    "for i in range(K):\n",
    "    clfs_SR[i].eval()\n",
    "    with torch.no_grad():\n",
    "        X_test_tensor = torch.from_numpy(X_test)\n",
    "        #softmax = torch.nn.functional.softmax(clfs_SR[i](X_test_tensor), dim = 1)\n",
    "        #decision_list.append(softmax.numpy()[:,1])\n",
    "        decision_list.append((clfs_SR[i](X_test_tensor)).numpy()[:,1])\n",
    "print(len(decision_list))\n",
    "print(np.asarray(decision_list).shape)\n",
    "#y_score_SR = np.mean(np.asarray(decision_list[2:4]), axis = 0)\n",
    "y_score_SR = np.asarray(decision_list[4])\n",
    "print(y_score_SR)"
   ]
  },
  {
   "cell_type": "code",
   "execution_count": 62,
   "metadata": {},
   "outputs": [
    {
     "name": "stdout",
     "output_type": "stream",
     "text": [
      "5\n",
      "(5, 180298)\n",
      "[-2.3731275 -2.2640727 -2.2629814 ... -2.1878228 -2.1878228 -2.1878228]\n"
     ]
    }
   ],
   "source": [
    "decision_list = []\n",
    "for i in range(K):\n",
    "    clfs_FS[i].eval()\n",
    "    with torch.no_grad():\n",
    "        X_test_tensor = torch.from_numpy(X_test[:,list_feature_selected_FS[i]])\n",
    "        #softmax = torch.nn.functional.softmax(clfs_SR[i](X_test_tensor), dim = 1)\n",
    "        #decision_list.append(softmax.numpy()[:,1])\n",
    "        decision_list.append((clfs_FS[i](X_test_tensor)).numpy()[:,1])\n",
    "print(len(decision_list))\n",
    "print(np.asarray(decision_list).shape)\n",
    "#_score_FS = np.mean(np.asarray(decision_list[:]), axis = 0)\n",
    "y_score_FS = np.asarray(decision_list[4])\n",
    "print(y_score_FS)"
   ]
  },
  {
   "cell_type": "code",
   "execution_count": 56,
   "metadata": {},
   "outputs": [
    {
     "name": "stdout",
     "output_type": "stream",
     "text": [
      "5\n",
      "(5, 180298)\n",
      "[-1.9201359 -1.4686308 -1.804974  ... -1.1850208 -1.2948563 -1.4041569]\n"
     ]
    }
   ],
   "source": [
    "decision_list = []\n",
    "for i in range(K):\n",
    "    clfs_TFS[i].eval()\n",
    "    with torch.no_grad():\n",
    "        X_test_tensor = torch.from_numpy(X_test[:,list_feature_selected_TFS[i]])\n",
    "        decision_list.append((clfs_TFS[i](X_test_tensor)).numpy()[:,1])\n",
    "print(len(decision_list))\n",
    "print(np.asarray(decision_list).shape)\n",
    "y_score_TFS = np.mean(np.asarray(decision_list), axis = 0)\n",
    "#y_score_FS = np.asarray(decision_list[4])\n",
    "print(y_score_TFS)"
   ]
  },
  {
   "cell_type": "code",
   "execution_count": 70,
   "metadata": {},
   "outputs": [
    {
     "name": "stdout",
     "output_type": "stream",
     "text": [
      "5\n",
      "(5, 180298)\n",
      "[-1.5476687 -2.0713577 -1.6497613 ... -1.4685607 -1.4685607 -1.597744 ]\n"
     ]
    }
   ],
   "source": [
    "decision_list = []\n",
    "for i in range(K):\n",
    "    clfs_SR_FS[i].eval()\n",
    "    with torch.no_grad():\n",
    "        X_test_tensor = torch.from_numpy(X_test[:,list_feature_selected_SR_FS[i]])\n",
    "        decision_list.append((clfs_SR_FS[i](X_test_tensor)).numpy()[:,1])\n",
    "print(len(decision_list))\n",
    "print(np.asarray(decision_list).shape)\n",
    "#y_score_SR_FS = np.mean(np.asarray(decision_list[2:4]), axis = 0)\n",
    "y_score_SR_FS = np.asarray(decision_list[4])\n",
    "print(y_score_SR_FS)"
   ]
  },
  {
   "cell_type": "code",
   "execution_count": 58,
   "metadata": {},
   "outputs": [],
   "source": [
    "def plot_roc(labels, scores):\n",
    "    lw = 2\n",
    "    fpr, tpr, _ = roc_curve(labels, scores)\n",
    "    roc_auc = auc(fpr, tpr)\n",
    "    plt.figure(figsize=(5,5))\n",
    "    plt.plot(fpr, tpr, color='darkorange', lw=lw, label='(AUC = %0.3f)' % (roc_auc))\n",
    "    #plt.plot([eer], [1-eer], marker='o', markersize=5, color=\"navy\")\n",
    "    #plt.plot([0, 1], [1, 0], color='navy', lw=1, linestyle=':')\n",
    "    plt.xlim([0.0, 1.0])\n",
    "    plt.ylim([0.0, 1.05])\n",
    "    plt.xlabel('False Positive Rate')\n",
    "    plt.ylabel('True Positive Rate')\n",
    "    plt.title('Receiver Operating Characteristic Curve')\n",
    "    plt.legend(loc=\"lower right\")"
   ]
  },
  {
   "cell_type": "code",
   "execution_count": 71,
   "metadata": {},
   "outputs": [
    {
     "data": {
      "image/png": "[encoded data removed]",
      "text/plain": [
       "<Figure size 360x360 with 1 Axes>"
      ]
     },
     "metadata": {
      "needs_background": "light"
     },
     "output_type": "display_data"
    },
    {
     "data": {
      "image/png": "[encoded data removed]",
      "text/plain": [
       "<Figure size 360x360 with 1 Axes>"
      ]
     },
     "metadata": {
      "needs_background": "light"
     },
     "output_type": "display_data"
    },
    {
     "data": {
      "image/png": "[encoded data removed]",
      "text/plain": [
       "<Figure size 360x360 with 1 Axes>"
      ]
     },
     "metadata": {
      "needs_background": "light"
     },
     "output_type": "display_data"
    },
    {
     "data": {
      "image/png": "[encoded data removed]",
      "text/plain": [
       "<Figure size 360x360 with 1 Axes>"
      ]
     },
     "metadata": {
      "needs_background": "light"
     },
     "output_type": "display_data"
    },
    {
     "data": {
      "image/png": "[encoded data removed]",
      "text/plain": [
       "<Figure size 360x360 with 1 Axes>"
      ]
     },
     "metadata": {
      "needs_background": "light"
     },
     "output_type": "display_data"
    },
    {
     "data": {
      "image/png": "[encoded data removed]",
      "text/plain": [
       "<Figure size 360x360 with 1 Axes>"
      ]
     },
     "metadata": {
      "needs_background": "light"
     },
     "output_type": "display_data"
    }
   ],
   "source": [
    "plot_roc(y_test, y_score_single)\n",
    "plot_roc(y_test, y_score_5_sub)\n",
    "plot_roc(y_test, y_score_SR)\n",
    "plot_roc(y_test, y_score_SR_FS)\n",
    "plot_roc(y_test, y_score_FS)\n",
    "plot_roc(y_test, y_score_TFS)"
   ]
  },
  {
   "cell_type": "code",
   "execution_count": null,
   "metadata": {},
   "outputs": [],
   "source": []
  }
 ],
 "metadata": {
  "kernelspec": {
   "display_name": "Python 3",
   "language": "python",
   "name": "python3"
  },
  "language_info": {
   "codemirror_mode": {
    "name": "ipython",
    "version": 3
   },
   "file_extension": ".py",
   "mimetype": "text/x-python",
   "name": "python",
   "nbconvert_exporter": "python",
   "pygments_lexer": "ipython3",
   "version": "3.7.9"
  }
 },
 "nbformat": 4,
 "nbformat_minor": 4
}
