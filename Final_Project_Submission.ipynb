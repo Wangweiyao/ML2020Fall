{
 "cells": [
  {
   "cell_type": "markdown",
   "metadata": {
    "id": "39GGICFzwDrj"
   },
   "source": [
    "# **Instructions**\n",
    "\n",
    "This document is a template, and you are not required to follow it exactly. However, the kinds of questions we ask here are the kinds of questions we want you to focus on. While you might have answered similar questions to these in your project presentations, we want you to go into a lot more detail in this write-up; you can refer to the Lab homeworks for ideas on how to present your data or results. \n",
    "\n",
    "You don't have to answer every question in this template, but you should answer roughly this many questions. Your answers to such questions should be paragraph-length, not just a bullet point. You likely still have questions of your own -- that's okay! We want you to convey what you've learned, how you've learned it, and demonstrate that the content from the course has influenced how you've thought about this project."
   ]
  },
  {
   "cell_type": "markdown",
   "metadata": {
    "id": "-9VDfC-ie19P"
   },
   "source": [
    "# Project Name\n",
    "Project mentor: Mark Dredze\n",
    "\n",
    "Weiyao Wang <wwang121@jh.edu>, Junjie Yang <jyang173@jh.edu>, Team member <jhed1@jh.edu>\n",
    "\n",
    "https://github.com/Wangweiyao/ML2020Fall"
   ]
  },
  {
   "cell_type": "markdown",
   "metadata": {
    "id": "uqwI3PT-hBJo"
   },
   "source": [
    "# Outline and Deliverables"
   ]
  },
  {
   "cell_type": "markdown",
   "metadata": {
    "id": "F7Af6y48e7HI"
   },
   "source": [
    "List the deliverables from your project proposal. For each uncompleted deliverable, please include a sentence or two on why you weren't able to complete it (e.g. \"decided to use an existing implementation instead\" or \"ran out of time\"). For each completed deliverable, indicate which section of this notebook covers what you did.\n",
    "\n",
    "If you spent substantial time on any aspects that weren't deliverables in your proposal, please list those under \"Additional Work\" and indicate where in the notebook you discuss them.\n",
    "\n",
    "### Uncompleted Deliverables\n",
    "1. \"Expect to complete #1\": Add extra ensemble methods other than simple average over all the submodels.\n",
    "2. \"Expect to complete #1\": Come up with our novel feature selection or sample reweighting method.\n",
    "\n",
    "\n",
    "### Completed Deliverables\n",
    "1. \"Must complete #1\": We scaled the weights of each sample based on the learning trajectory [in \"Methods\" below](#scrollTo=zFq-_D0khnhh&line=10&uniqifier=1).\n",
    "2. \"Must complete #2\": We performed correlation based feature selection & random shuffling based feature selection methods [in \"Methods\" below](#scrollTo=oMyqHUa0jUw7&line=5&uniqifier=1).\n",
    "3. \"Must complete #3\": We applied the sample reweighting and feature selection methods to two base learner(GBT & MLP)\n",
    "\n",
    "\n",
    "### Additional Deliverables\n",
    "1. We decided to add the soft labelling. We discuss this [in \"Methods\" below](#scrollTo=oMyqHUa0jUw7&line=5&uniqifier=1)."
   ]
  },
  {
   "cell_type": "markdown",
   "metadata": {
    "id": "Eiq2aSauhSsS"
   },
   "source": [
    "# Preliminaries"
   ]
  },
  {
   "cell_type": "markdown",
   "metadata": {
    "id": "NtWkhiIPfOfK"
   },
   "source": [
    "## What problem were you trying to solve or understand?\n",
    "\n",
    "What are the real-world implications of this data and task? If we can learn this problem well, we can understand if efficient market hypothesis is valid in this particular market. We also examine the effectiveness of recent methods proposed to work on financial data.\n",
    "\n",
    "How is this problem similar to others we’ve seen in lectures, breakouts, and homeworks? This is problem can be framed as a supervised classification problem which we've seen a lot in this class.\n",
    "\n",
    "What makes this problem unique?\n",
    "It is different in that it's a time series prediction problem. The way we label it makes it imbalanced. And it is relatively hard (low accuracy is expected).\n",
    "\n",
    "What ethical implications does this problem have?\n",
    "Not Applied."
   ]
  },
  {
   "cell_type": "code",
   "execution_count": 28,
   "metadata": {},
   "outputs": [],
   "source": [
    "#!python3 -m pip install -e .. -U\n",
    "import pandas as pd\n",
    "import numpy as np\n",
    "import matplotlib.pyplot as plt\n",
    "from datetime import timedelta\n",
    "from sklearn.metrics import roc_curve, auc\n",
    "import torch\n",
    "import torch.nn as nn\n",
    "import torch.nn.functional as F\n",
    "import torch.optim as optim\n",
    "from torch.optim.lr_scheduler import StepLR\n",
    "from tqdm.auto import tqdm, trange\n",
    "from copy import deepcopy"
   ]
  },
  {
   "cell_type": "markdown",
   "metadata": {
    "id": "zFq-_D0khnhh"
   },
   "source": [
    "## Dataset(s)\n",
    "\n",
    "Describe the dataset(s) you used. \n",
    "\n",
    "How were they collected? We collect minute level bitcoin kline data from fmz.com\n",
    "\n",
    "Why did you choose them? This is most ready dataset for bitcoin currently\n",
    "\n",
    "How many examples in each? In total 988483 entries\n"
   ]
  },
  {
   "cell_type": "code",
   "execution_count": 2,
   "metadata": {
    "id": "2lOicoBYif7g"
   },
   "outputs": [],
   "source": [
    "TZ = 'Asia/Shanghai'\n",
    "data_path = './data/data'\n",
    "data_platform = 'BITFINEX'\n",
    "data_symbol = 'BTC'\n",
    "\n",
    "pkl_file_path = data_path+'/'+data_symbol+'_USD_'+data_platform+'_latest.pkl'\n",
    "data = pd.read_pickle(pkl_file_path)"
   ]
  },
  {
   "cell_type": "code",
   "execution_count": 3,
   "metadata": {},
   "outputs": [
    {
     "data": {
      "text/html": [
       "<div>\n",
       "<style scoped>\n",
       "    .dataframe tbody tr th:only-of-type {\n",
       "        vertical-align: middle;\n",
       "    }\n",
       "\n",
       "    .dataframe tbody tr th {\n",
       "        vertical-align: top;\n",
       "    }\n",
       "\n",
       "    .dataframe thead th {\n",
       "        text-align: right;\n",
       "    }\n",
       "</style>\n",
       "<table border=\"1\" class=\"dataframe\">\n",
       "  <thead>\n",
       "    <tr style=\"text-align: right;\">\n",
       "      <th></th>\n",
       "      <th>open</th>\n",
       "      <th>high</th>\n",
       "      <th>low</th>\n",
       "      <th>close</th>\n",
       "      <th>volume</th>\n",
       "    </tr>\n",
       "  </thead>\n",
       "  <tbody>\n",
       "    <tr>\n",
       "      <th>2019-01-01 16:00:00+08:00</th>\n",
       "      <td>3850.000000</td>\n",
       "      <td>3850.00000</td>\n",
       "      <td>3849.600000</td>\n",
       "      <td>3849.60000</td>\n",
       "      <td>0.443293</td>\n",
       "    </tr>\n",
       "    <tr>\n",
       "      <th>2019-01-01 16:01:00+08:00</th>\n",
       "      <td>3849.500000</td>\n",
       "      <td>3853.00000</td>\n",
       "      <td>3849.400000</td>\n",
       "      <td>3853.00000</td>\n",
       "      <td>9.085920</td>\n",
       "    </tr>\n",
       "    <tr>\n",
       "      <th>2019-01-01 16:02:00+08:00</th>\n",
       "      <td>3853.000000</td>\n",
       "      <td>3857.00000</td>\n",
       "      <td>3852.960000</td>\n",
       "      <td>3853.20000</td>\n",
       "      <td>8.213360</td>\n",
       "    </tr>\n",
       "    <tr>\n",
       "      <th>2019-01-01 16:03:00+08:00</th>\n",
       "      <td>3853.000000</td>\n",
       "      <td>3853.10000</td>\n",
       "      <td>3851.200000</td>\n",
       "      <td>3852.20000</td>\n",
       "      <td>6.385190</td>\n",
       "    </tr>\n",
       "    <tr>\n",
       "      <th>2019-01-01 16:04:00+08:00</th>\n",
       "      <td>3852.200000</td>\n",
       "      <td>3852.30000</td>\n",
       "      <td>3852.200000</td>\n",
       "      <td>3852.30000</td>\n",
       "      <td>0.504622</td>\n",
       "    </tr>\n",
       "    <tr>\n",
       "      <th>...</th>\n",
       "      <td>...</td>\n",
       "      <td>...</td>\n",
       "      <td>...</td>\n",
       "      <td>...</td>\n",
       "      <td>...</td>\n",
       "    </tr>\n",
       "    <tr>\n",
       "      <th>2020-12-07 15:55:00+08:00</th>\n",
       "      <td>19398.841056</td>\n",
       "      <td>19402.00000</td>\n",
       "      <td>19398.841056</td>\n",
       "      <td>19402.00000</td>\n",
       "      <td>8.340088</td>\n",
       "    </tr>\n",
       "    <tr>\n",
       "      <th>2020-12-07 15:56:00+08:00</th>\n",
       "      <td>19402.690321</td>\n",
       "      <td>19418.62931</td>\n",
       "      <td>19402.690321</td>\n",
       "      <td>19418.62931</td>\n",
       "      <td>2.047179</td>\n",
       "    </tr>\n",
       "    <tr>\n",
       "      <th>2020-12-07 15:57:00+08:00</th>\n",
       "      <td>19412.000000</td>\n",
       "      <td>19419.00000</td>\n",
       "      <td>19412.000000</td>\n",
       "      <td>19419.00000</td>\n",
       "      <td>0.153671</td>\n",
       "    </tr>\n",
       "    <tr>\n",
       "      <th>2020-12-07 15:58:00+08:00</th>\n",
       "      <td>19410.000000</td>\n",
       "      <td>19414.00000</td>\n",
       "      <td>19410.000000</td>\n",
       "      <td>19414.00000</td>\n",
       "      <td>0.633814</td>\n",
       "    </tr>\n",
       "    <tr>\n",
       "      <th>2020-12-07 15:59:00+08:00</th>\n",
       "      <td>19413.779503</td>\n",
       "      <td>19414.00000</td>\n",
       "      <td>19404.000000</td>\n",
       "      <td>19405.00000</td>\n",
       "      <td>2.242484</td>\n",
       "    </tr>\n",
       "  </tbody>\n",
       "</table>\n",
       "<p>988483 rows × 5 columns</p>\n",
       "</div>"
      ],
      "text/plain": [
       "                                   open         high           low  \\\n",
       "2019-01-01 16:00:00+08:00   3850.000000   3850.00000   3849.600000   \n",
       "2019-01-01 16:01:00+08:00   3849.500000   3853.00000   3849.400000   \n",
       "2019-01-01 16:02:00+08:00   3853.000000   3857.00000   3852.960000   \n",
       "2019-01-01 16:03:00+08:00   3853.000000   3853.10000   3851.200000   \n",
       "2019-01-01 16:04:00+08:00   3852.200000   3852.30000   3852.200000   \n",
       "...                                 ...          ...           ...   \n",
       "2020-12-07 15:55:00+08:00  19398.841056  19402.00000  19398.841056   \n",
       "2020-12-07 15:56:00+08:00  19402.690321  19418.62931  19402.690321   \n",
       "2020-12-07 15:57:00+08:00  19412.000000  19419.00000  19412.000000   \n",
       "2020-12-07 15:58:00+08:00  19410.000000  19414.00000  19410.000000   \n",
       "2020-12-07 15:59:00+08:00  19413.779503  19414.00000  19404.000000   \n",
       "\n",
       "                                 close    volume  \n",
       "2019-01-01 16:00:00+08:00   3849.60000  0.443293  \n",
       "2019-01-01 16:01:00+08:00   3853.00000  9.085920  \n",
       "2019-01-01 16:02:00+08:00   3853.20000  8.213360  \n",
       "2019-01-01 16:03:00+08:00   3852.20000  6.385190  \n",
       "2019-01-01 16:04:00+08:00   3852.30000  0.504622  \n",
       "...                                ...       ...  \n",
       "2020-12-07 15:55:00+08:00  19402.00000  8.340088  \n",
       "2020-12-07 15:56:00+08:00  19418.62931  2.047179  \n",
       "2020-12-07 15:57:00+08:00  19419.00000  0.153671  \n",
       "2020-12-07 15:58:00+08:00  19414.00000  0.633814  \n",
       "2020-12-07 15:59:00+08:00  19405.00000  2.242484  \n",
       "\n",
       "[988483 rows x 5 columns]"
      ]
     },
     "execution_count": 3,
     "metadata": {},
     "output_type": "execute_result"
    }
   ],
   "source": [
    "data"
   ]
  },
  {
   "cell_type": "markdown",
   "metadata": {
    "id": "XN1fYEfGidiD"
   },
   "source": [
    "## Pre-processing\n",
    "\n",
    "What features did you use or choose not to use? Why? We choose to use moving average and standard deviation across different time horizons. We are using these features because we believe they capture most information in historical price trend\n",
    "\n",
    "If you have categorical labels, were your datasets class-balanced? It is not balanced. Positive class is 3-5%\n",
    "\n",
    "How did you deal with missing data? What about outliers? We dont have missing data. We implicitly handle outliers in our sampling reweighting scheme that will be introduced later\n",
    "\n",
    "What approach(es) did you use to pre-process your data? Why? We generate labels ourselves by setting a threshould on return rate in a given time horizon. Specifically, if the return is more than 1% in 1 hour, we will have it labled as positive in this study\n",
    "\n",
    "Are your features continuous or categorical? How do you treat these features differently? We convert our continuous feature into (5) discrete bins to improve robustness (to noise / outliers)"
   ]
  },
  {
   "cell_type": "markdown",
   "metadata": {
    "id": "EEuKEzM5ipag"
   },
   "source": [
    "#### Generate feaure"
   ]
  },
  {
   "cell_type": "code",
   "execution_count": 4,
   "metadata": {
    "id": "1cDLEwhAx0gP"
   },
   "outputs": [],
   "source": [
    "# Prepare features\n",
    "import talib\n",
    "\n",
    "# Moving averages\n",
    "data['ma5m'] = talib.MA(data['close'], timeperiod = 5) / data['close'] \n",
    "data['ma10m'] = talib.MA(data['close'], timeperiod = 10) / data['close'] \n",
    "data['ma1h'] = talib.MA(data['close'], timeperiod = 60) / data['close'] \n",
    "data['ma4h'] = talib.MA(data['close'], timeperiod = 240) / data['close'] \n",
    "data['ma12h'] = talib.MA(data['close'], timeperiod = 720) / data['close'] \n",
    "data['ma1d'] = talib.MA(data['close'], timeperiod = 1440) / data['close']\n",
    "data['ma5d'] = talib.MA(data['close'], timeperiod = 7200) / data['close'] \n",
    "data['ma10d'] = talib.MA(data['close'], timeperiod = 14400) / data['close'] \n",
    "data['ma30d'] = talib.MA(data['close'], timeperiod = 43200) / data['close'] \n",
    "\n",
    "\n",
    "# Standard deviation\n",
    "data['std5m'] = talib.STDDEV(data['close'], timeperiod=5)/ data['close'] \n",
    "data['std10m'] = talib.STDDEV(data['close'], timeperiod = 10) / data['close'] \n",
    "data['std1h'] = talib.STDDEV(data['close'], timeperiod = 60) / data['close'] \n",
    "data['std4h'] = talib.STDDEV(data['close'], timeperiod = 240) / data['close'] \n",
    "data['std12h'] = talib.STDDEV(data['close'], timeperiod = 720) / data['close'] \n",
    "data['std1d'] = talib.STDDEV(data['close'], timeperiod = 1440) / data['close']\n",
    "data['std5d'] = talib.STDDEV(data['close'], timeperiod = 7200) / data['close'] \n",
    "data['std10d'] = talib.STDDEV(data['close'], timeperiod = 14400) / data['close'] \n",
    "data['std30d'] = talib.STDDEV(data['close'], timeperiod = 43200) / data['close'] \n",
    "\n",
    "# Closeness to hundred / thousand\n",
    "data['dis100'] = (data['close'] % 100) / 100 \n",
    "data['dis1000'] = (data['close'] % 1000) / 1000 "
   ]
  },
  {
   "cell_type": "code",
   "execution_count": 6,
   "metadata": {},
   "outputs": [
    {
     "name": "stderr",
     "output_type": "stream",
     "text": [
      "/home/weiyao/.local/lib/python3.6/site-packages/numpy/lib/histograms.py:824: RuntimeWarning: invalid value encountered in greater_equal\n",
      "  keep = (tmp_a >= first_edge)\n",
      "/home/weiyao/.local/lib/python3.6/site-packages/numpy/lib/histograms.py:825: RuntimeWarning: invalid value encountered in less_equal\n",
      "  keep &= (tmp_a <= last_edge)\n"
     ]
    },
    {
     "data": {
      "image/png": "[encoded data removed]",
      "text/plain": [
       "<Figure size 432x288 with 1 Axes>"
      ]
     },
     "metadata": {
      "needs_background": "light"
     },
     "output_type": "display_data"
    }
   ],
   "source": [
    "_ = plt.hist(data['ma5m'],bins=50)"
   ]
  },
  {
   "cell_type": "code",
   "execution_count": 7,
   "metadata": {},
   "outputs": [],
   "source": [
    "train_start_time = pd.Timestamp('2019-01-01', tz=TZ)\n",
    "train_end_time = pd.Timestamp('2020-4-1', tz=TZ)\n",
    "val_start_time = pd.Timestamp('2020-4-1', tz=TZ)\n",
    "val_end_time = pd.Timestamp('2020-08-01', tz=TZ)\n",
    "test_start_time = pd.Timestamp('2020-08-01', tz=TZ)\n",
    "test_end_time = pd.Timestamp('2020-12-31', tz=TZ)\n",
    "\n",
    "train_data = data.loc[train_start_time:train_end_time]\n",
    "val_data = data.loc[val_start_time:val_end_time]\n",
    "test_data = data.loc[test_start_time:test_end_time]"
   ]
  },
  {
   "cell_type": "markdown",
   "metadata": {},
   "source": [
    "#### Generate labels and train / val / test split"
   ]
  },
  {
   "cell_type": "code",
   "execution_count": 29,
   "metadata": {},
   "outputs": [],
   "source": [
    "data['up_x%_in_future_1h'] = 100 * (data['close'].shift(-60) / data['close'] - 1)\n",
    "data['up_x%_in_past_1h'] = 100 * (data['close'] / data['close'].shift(60) - 1)\n",
    "data = deepcopy(data.dropna())"
   ]
  },
  {
   "cell_type": "code",
   "execution_count": 30,
   "metadata": {},
   "outputs": [],
   "source": [
    "train_start_time = pd.Timestamp('2019-01-01', tz=TZ)\n",
    "train_end_time = pd.Timestamp('2020-4-1', tz=TZ)\n",
    "val_start_time = pd.Timestamp('2020-4-1', tz=TZ)\n",
    "val_end_time = pd.Timestamp('2020-08-01', tz=TZ)\n",
    "test_start_time = pd.Timestamp('2020-08-01', tz=TZ)\n",
    "test_end_time = pd.Timestamp('2020-12-31', tz=TZ)\n",
    "\n",
    "train_data = data.loc[train_start_time:train_end_time]\n",
    "val_data = data.loc[val_start_time:val_end_time]\n",
    "test_data = data.loc[test_start_time:test_end_time]"
   ]
  },
  {
   "cell_type": "code",
   "execution_count": 31,
   "metadata": {},
   "outputs": [],
   "source": [
    "label = ['up_x%_in_future_1h']\n",
    "positive_threshold = 1\n",
    "\n",
    "#Train\n",
    "y_train = (train_data[label].values > positive_threshold).astype(int)\n",
    "#Val\n",
    "y_val = (val_data[label].values > positive_threshold).astype(int)\n",
    "#Test\n",
    "y_test = (test_data[label].values > positive_threshold).astype(int)"
   ]
  },
  {
   "cell_type": "code",
   "execution_count": 32,
   "metadata": {},
   "outputs": [
    {
     "name": "stdout",
     "output_type": "stream",
     "text": [
      "Positive ratio in train set: 0.05260440656175817\n",
      "Positive ratio in val set: 0.03720489712436302\n",
      "Positive ratio in test set: 0.03672479437001188\n"
     ]
    }
   ],
   "source": [
    "print(f'Positive ratio in train set: {np.sum(y_train) / y_train.size}')\n",
    "print(f'Positive ratio in val set: {np.sum(y_val) / y_val.size}')\n",
    "print(f'Positive ratio in test set: {np.sum(y_test) / y_test.size}')"
   ]
  },
  {
   "cell_type": "markdown",
   "metadata": {},
   "source": [
    "#### Discritize continuous features"
   ]
  },
  {
   "cell_type": "code",
   "execution_count": 49,
   "metadata": {},
   "outputs": [],
   "source": [
    "feature_set = ['ma5m','ma10m','ma1h','ma4h','ma12h','ma1d','ma5d','ma10d','ma30d', \\\n",
    "               'std5m','std10m','std1h','std4h','std12h','std1d','std5d','std10d','std30d',\\\n",
    "               'dis100', 'dis1000']\n",
    "\n",
    "X_train = train_data[feature_set].values.squeeze().astype(np.float32)\n",
    "X_val = val_data[feature_set].values.squeeze().astype(np.float32)\n",
    "X_test = test_data[feature_set].values.squeeze().astype(np.float32)\n",
    "\n",
    "from sklearn.preprocessing import KBinsDiscretizer\n",
    "est = KBinsDiscretizer(n_bins=5, encode='ordinal', strategy='uniform')\n",
    "est.fit(X_train)\n",
    "\n",
    "X_train = est.transform(X_train)\n",
    "X_val = est.transform(X_val)\n",
    "X_test = est.transform(X_test)"
   ]
  },
  {
   "cell_type": "code",
   "execution_count": 50,
   "metadata": {},
   "outputs": [
    {
     "data": {
      "image/png": "[encoded data removed]",
      "text/plain": [
       "<Figure size 432x288 with 1 Axes>"
      ]
     },
     "metadata": {
      "needs_background": "light"
     },
     "output_type": "display_data"
    }
   ],
   "source": [
    "_ = plt.hist(X_train[:,0])"
   ]
  },
  {
   "cell_type": "code",
   "execution_count": 54,
   "metadata": {},
   "outputs": [
    {
     "data": {
      "text/plain": [
       "0.0"
      ]
     },
     "execution_count": 54,
     "metadata": {},
     "output_type": "execute_result"
    }
   ],
   "source": [
    "X_train[:,0].min()"
   ]
  },
  {
   "cell_type": "code",
   "execution_count": 55,
   "metadata": {},
   "outputs": [
    {
     "data": {
      "text/plain": [
       "4.0"
      ]
     },
     "execution_count": 55,
     "metadata": {},
     "output_type": "execute_result"
    }
   ],
   "source": [
    "X_train[:,0].max()"
   ]
  },
  {
   "cell_type": "markdown",
   "metadata": {
    "id": "tASjmmtjiwvu"
   },
   "source": [
    "# Models and Evaluation"
   ]
  },
  {
   "cell_type": "markdown",
   "metadata": {
    "id": "LlrwR9E1hnQ3"
   },
   "source": [
    "## Experimental Setup\n",
    "\n",
    "How did you evaluate your methods? Why is that a reasonable evaluation metric for the task? We AUROC to evalaute performance. This is reasonable because our dataset is biased towards negative class so that accuracy would be not very informative\n",
    "\n",
    "What did you use for your loss function to train your models? Did you try multiple loss functions? Why or why not? As shown below in methods we use a couple variants of training procedures. MLP are trained on cross entropy for eaxmple\n",
    "\n",
    "How did you split your data into train and test sets? Why? We split it based on time to make sure there are no information leaked from training to validation / testing\n",
    "Train split: 19/1/1 to 20/3/31\n",
    " Validation split: 20/4/1 to 20/7/31\n",
    "Test split: 20/8/1 to 20/12/7\n"
   ]
  },
  {
   "cell_type": "code",
   "execution_count": 56,
   "metadata": {},
   "outputs": [],
   "source": [
    "y_test_baseline_score = test_data['up_x%_in_past_1h'].values.squeeze().astype(np.float32)"
   ]
  },
  {
   "cell_type": "code",
   "execution_count": 57,
   "metadata": {},
   "outputs": [],
   "source": [
    "def plot_roc(labels, scores):\n",
    "    lw = 2\n",
    "    fpr, tpr, _ = roc_curve(labels, scores)\n",
    "    roc_auc = auc(fpr, tpr)\n",
    "    plt.figure(figsize=(5,5))\n",
    "    plt.plot(fpr, tpr, color='darkorange', lw=lw, label='(AUC = %0.3f)' % (roc_auc))\n",
    "    #plt.plot([eer], [1-eer], marker='o', markersize=5, color=\"navy\")\n",
    "    #plt.plot([0, 1], [1, 0], color='navy', lw=1, linestyle=':')\n",
    "    plt.xlim([0.0, 1.0])\n",
    "    plt.ylim([0.0, 1.05])\n",
    "    plt.xlabel('False Positive Rate')\n",
    "    plt.ylabel('True Positive Rate')\n",
    "    plt.title('Receiver Operating Characteristic Curve')\n",
    "    plt.legend(loc=\"lower right\")"
   ]
  },
  {
   "cell_type": "markdown",
   "metadata": {
    "id": "oMyqHUa0jUw7"
   },
   "source": [
    "## Baselines \n",
    "\n",
    "What baselines did you compare against? Why are these reasonable? We have a simple baseline that was suggested by the professor: use the return over the past 1 hour as a score to predict. We show the result below. It only gets an AUC of 0.492 showing that it is not performing well\n",
    "\n",
    "Did you look at related work to contextualize how others methods or baselines have performed on this dataset/task? If so, how did those methods do? In the experiement result secection, we include base learners and ensembles. These are also considered as baseline methods that have been visited by other works as well"
   ]
  },
  {
   "cell_type": "code",
   "execution_count": 59,
   "metadata": {},
   "outputs": [
    {
     "data": {
      "image/png": "[encoded data removed]",
      "text/plain": [
       "<Figure size 360x360 with 1 Axes>"
      ]
     },
     "metadata": {
      "needs_background": "light"
     },
     "output_type": "display_data"
    }
   ],
   "source": [
    "plot_roc(y_test, y_test_baseline_score)"
   ]
  },
  {
   "cell_type": "markdown",
   "metadata": {
    "id": "PqB48IF9kMBf"
   },
   "source": [
    "## Methods\n",
    "\n",
    "What methods did you choose? Why did you choose them?\n",
    "\n",
    "Feature Selection:\n",
    "\n",
    "We investigated 2 feature selection methods: 1. correlation based; 2. random shuffling based.\n",
    "\n",
    "As for the random shuffling based method, the intuition behind is that if the value of a numerical feature is shuffled over N samples, this feature is rendered useless. And, if the loss of each sample does not change too much, then that means this feature is not important and we'd better remove it. To be more specific, after we fitted a base model(either GBT or MLP), we compute the loss L(Nx1 vector).We shuffle the f-th column of the training data X(NxF matrix, N: number of samples; F: number of features), and we re-input this shuffled X matrix into the trained model. And then we compute the negative log likehood of each sample(each row of X) Lf, which is a Nx1 vector. By ranking the value of |L-Lf|, we rank the importance of the features. And we divided the ranked features in to D bins. For each bin d belongs to D, we select r of the features out of that bin. r\n",
    "\n",
    "How did you train these methods, and how did you evaluate them? Why?\n",
    "\n",
    "During each training iteration, we first fit the weak learner(either GBT or MLP). Based on the resultant model, we reweight the samples and selected useful features by the above mentioned methods before we went on to the next iteration. \n",
    "\n",
    "We evaluated these methods by comparing the predictions of our model with the one before we applied our FS/SR methods.\n",
    "\n",
    "Which methods were easy/difficult to implement and train? Why?\n",
    "\n",
    "For each method, what hyperparameters did you evaluate? How sensitive was your model's performance to different hyperparameter settings?\n",
    "\n",
    "In terms of feature selection. We can adjust the ratio of selected features to the total number of features. But we didn't really try too many hyperparameters for sake of computational cost."
   ]
  },
  {
   "cell_type": "code",
   "execution_count": null,
   "metadata": {
    "id": "ma4JoDzar6xU"
   },
   "outputs": [],
   "source": [
    "# Code for training models, or link to your Git repository"
   ]
  },
  {
   "cell_type": "markdown",
   "metadata": {},
   "source": [
    "https://github.com/Wangweiyao/ML2020Fall"
   ]
  },
  {
   "cell_type": "code",
   "execution_count": null,
   "metadata": {
    "id": "RO_kP1fmkWWk"
   },
   "outputs": [],
   "source": [
    "# Show plots of how these models performed during training.\n",
    "#  For example, plot train loss and train accuracy (or other evaluation metric) on the y-axis,\n",
    "#  with number of iterations or number of examples on the x-axis."
   ]
  },
  {
   "cell_type": "markdown",
   "metadata": {
    "id": "_Zdp4_H-kx8H"
   },
   "source": [
    "## Results\n",
    "\n",
    "Show tables comparing your methods to the baselines.\n",
    "\n",
    "What about these results surprised you? Why?\n",
    "\n",
    "Did your models over- or under-fit? How can you tell? What did you do to address these issues?\n",
    "\n",
    "What does the evaluation of your trained models tell you about your data? How do you expect these models might behave differently on different data?  "
   ]
  },
  {
   "cell_type": "code",
   "execution_count": null,
   "metadata": {
    "id": "bS2sjfbglG_V"
   },
   "outputs": [],
   "source": [
    "# Show plots or visualizations of your evaluation metric(s) on the train and test sets.\n",
    "#   What do these plots show about over- or under-fitting?\n",
    "#   You may borrow from how we visualized results in the Lab homeworks.\n",
    "#   Are there aspects of your results that are difficult to visualize? Why?"
   ]
  },
  {
   "cell_type": "markdown",
   "metadata": {},
   "source": [
    "By monitoring the accuracy change of the validation set along the training path, we can make sure that our models are not over/under fitting with our current parameters"
   ]
  },
  {
   "cell_type": "markdown",
   "metadata": {},
   "source": [
    "| | 1 model | 5 model | 5 model + correlation FS | 5 model + shuffle FS | Last 3 model + shuffle FS | Last 1 model + shuffle FS | 5 model + SR | Last 3 model + SR | Last 1 model + SR | 5 model + SR + shuffle FS | Last 3 model + SR + shuffle FS |  Last 1 model + SR + shuffle FS |\n",
    "| --- | --- | --- | --- | --- | --- | --- | --- | --- | --- | --- | --- | --- |\n",
    "| GBT | --- | --- | --- | --- | --- | --- | --- | --- | --- | --- | --- | --- |\n",
    "| MLP + soft label | 0.578 | 0.620 | 0.629 | 0.628 | 0.620 | 0.637 | 0.638 | 0.609 | 0.583 | 0.660 | 0.626 | 0.606 |\n",
    "| MLP + hard label| 0.638 | 0.650 | 0.629 | 0.627 | 0.618 | 0.603 | 0.634 | 0.619 | 0.603 | 0.627 | 0.619 | 0.659 |"
   ]
  },
  {
   "cell_type": "markdown",
   "metadata": {},
   "source": [
    "We can draw the following conclusion out the above table:\n",
    "1. 5 model's ensemble is better than a single model\n",
    "2. In the MLP+soft label case, feature selection & sample reweighting apparently improve the model performance. What's more, their combination increases the prediction accuracy to a even greater degree.\n",
    "3. In the MLP+hard label case, feature selection & sample reweighting don't seem to be as useful. However, the accuracy of the last model is quite high, which means the performance was still improving during the training so this model might be underfitted."
   ]
  },
  {
   "cell_type": "markdown",
   "metadata": {
    "id": "59EbS1GilSQ_"
   },
   "source": [
    "# Discussion"
   ]
  },
  {
   "cell_type": "markdown",
   "metadata": {
    "id": "ugJXhZKNlUT4"
   },
   "source": [
    "## What you've learned\n",
    "\n",
    "*Note: you don't have to answer all of these, and you can answer other questions if you'd like. We just want you to demonstrate what you've learned from the project.*\n",
    "\n",
    "What concepts from lecture/breakout were most relevant to your project? How so? Decision trees/Neural Networks/Feature selections/bias-variance trade off. Following the same idea of the feauture selection we learned from this class, we applied it and see a big improvement in performance. We tried to select out the most informative features. The difference is all about the metric. Instead of using information gain, we used the idea of random shuffling to evaluate the importance of each features.\n",
    "\n",
    "What aspects of your project did you find most surprising? The effectiveness of vanilla correlation feature selection. We did not think it would introduce much improvement.\n",
    "\n",
    "What lessons did you take from this project that you want to remember for the next ML project you work on? Do you think those lessons would transfer to other datasets and/or models? Why or why not? \n",
    "\n",
    "What was the most helpful feedback you received during your presentation? Why? The one asks about how to weight different sub model. Because we do see the performance of each sub model vary by a lot. So this is very relevant.\n",
    "\n",
    "If you had two more weeks to work on this project, what would you do next? Why? We would spend time to conduct more testing targeting feature selection because this looks more influential than we thought. We would also apply a more suitable ensemble method other than simple average. Because from the table shown in the above result section. We found that the submodels are not performing equally well. For example, in the MLP+soft label case, we observed that the submodel performance was decaying going forward, but in the MLP+hard label case, the last submodel outperformed all those before it. So if we asign a proper weight to different submodels, we can potentially improve the overall performance of the algorithm."
   ]
  },
  {
   "cell_type": "code",
   "execution_count": null,
   "metadata": {},
   "outputs": [],
   "source": []
  }
 ],
 "metadata": {
  "colab": {
   "collapsed_sections": [],
   "name": "Final Project Submission Template",
   "provenance": [],
   "toc_visible": true
  },
  "kernelspec": {
   "display_name": "Python 3",
   "language": "python",
   "name": "python3"
  },
  "language_info": {
   "codemirror_mode": {
    "name": "ipython",
    "version": 3
   },
   "file_extension": ".py",
   "mimetype": "text/x-python",
   "name": "python",
   "nbconvert_exporter": "python",
   "pygments_lexer": "ipython3",
   "version": "3.7.9"
  }
 },
 "nbformat": 4,
 "nbformat_minor": 1
}
