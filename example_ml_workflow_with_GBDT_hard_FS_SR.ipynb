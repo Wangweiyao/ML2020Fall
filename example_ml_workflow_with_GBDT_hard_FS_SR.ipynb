{
 "cells": [
  {
   "cell_type": "markdown",
   "metadata": {},
   "source": [
    "# Prepare Data\n",
    "Here we prepare data as 1 min level kline for BTC from 2019.1.1 to 2020.5.2 in bitfinex exchange"
   ]
  },
  {
   "cell_type": "code",
   "execution_count": 1,
   "metadata": {},
   "outputs": [],
   "source": [
    "#!python3 -m pip install -e .. -U\n",
    "import pandas as pd\n",
    "import numpy as np\n",
    "import matplotlib.pyplot as plt\n",
    "from datetime import timedelta\n",
    "from sklearn.metrics import roc_curve, auc\n",
    "import torch\n",
    "import torch.nn as nn\n",
    "import torch.nn.functional as F\n",
    "import torch.optim as optim\n",
    "from torch.optim.lr_scheduler import StepLR\n",
    "from tqdm.auto import tqdm, trange"
   ]
  },
  {
   "cell_type": "code",
   "execution_count": 2,
   "metadata": {},
   "outputs": [],
   "source": [
    "TZ = 'Asia/Shanghai'"
   ]
  },
  {
   "cell_type": "code",
   "execution_count": 3,
   "metadata": {},
   "outputs": [],
   "source": [
    "data_path = './data/data'\n",
    "data_platform_list = ['BITFINEX']\n",
    "data_symbol_list = ['BTC']\n",
    "\n",
    "data_df_list = []"
   ]
  },
  {
   "cell_type": "code",
   "execution_count": 4,
   "metadata": {},
   "outputs": [],
   "source": [
    "for platform in data_platform_list:\n",
    "    for symbol in data_symbol_list:\n",
    "        pkl_file_path = data_path+'/'+symbol+'_USD_'+platform+'_latest.pkl'\n",
    "        pandas_df = pd.read_pickle(pkl_file_path)\n",
    "        #data_df_list.append(pkl_file.add_prefix(platform+'_'+symbol+':'))\n",
    "        data_df_list.append(pandas_df)\n",
    "data = pd.concat(data_df_list, axis=1)"
   ]
  },
  {
   "cell_type": "markdown",
   "metadata": {},
   "source": [
    "# Feature Enginnering"
   ]
  },
  {
   "cell_type": "markdown",
   "metadata": {},
   "source": [
    "Tactical indicators etc."
   ]
  },
  {
   "cell_type": "code",
   "execution_count": 5,
   "metadata": {},
   "outputs": [],
   "source": [
    "data['timestamp'] = data.index.tolist()"
   ]
  },
  {
   "cell_type": "code",
   "execution_count": 6,
   "metadata": {},
   "outputs": [
    {
     "data": {
      "text/html": [
       "<div>\n",
       "<style scoped>\n",
       "    .dataframe tbody tr th:only-of-type {\n",
       "        vertical-align: middle;\n",
       "    }\n",
       "\n",
       "    .dataframe tbody tr th {\n",
       "        vertical-align: top;\n",
       "    }\n",
       "\n",
       "    .dataframe thead th {\n",
       "        text-align: right;\n",
       "    }\n",
       "</style>\n",
       "<table border=\"1\" class=\"dataframe\">\n",
       "  <thead>\n",
       "    <tr style=\"text-align: right;\">\n",
       "      <th></th>\n",
       "      <th>open</th>\n",
       "      <th>high</th>\n",
       "      <th>low</th>\n",
       "      <th>close</th>\n",
       "      <th>volume</th>\n",
       "      <th>timestamp</th>\n",
       "    </tr>\n",
       "  </thead>\n",
       "  <tbody>\n",
       "    <tr>\n",
       "      <th>2019-01-01 16:00:00+08:00</th>\n",
       "      <td>3850.000000</td>\n",
       "      <td>3850.00000</td>\n",
       "      <td>3849.600000</td>\n",
       "      <td>3849.60000</td>\n",
       "      <td>0.443293</td>\n",
       "      <td>2019-01-01 16:00:00+08:00</td>\n",
       "    </tr>\n",
       "    <tr>\n",
       "      <th>2019-01-01 16:01:00+08:00</th>\n",
       "      <td>3849.500000</td>\n",
       "      <td>3853.00000</td>\n",
       "      <td>3849.400000</td>\n",
       "      <td>3853.00000</td>\n",
       "      <td>9.085920</td>\n",
       "      <td>2019-01-01 16:01:00+08:00</td>\n",
       "    </tr>\n",
       "    <tr>\n",
       "      <th>2019-01-01 16:02:00+08:00</th>\n",
       "      <td>3853.000000</td>\n",
       "      <td>3857.00000</td>\n",
       "      <td>3852.960000</td>\n",
       "      <td>3853.20000</td>\n",
       "      <td>8.213360</td>\n",
       "      <td>2019-01-01 16:02:00+08:00</td>\n",
       "    </tr>\n",
       "    <tr>\n",
       "      <th>2019-01-01 16:03:00+08:00</th>\n",
       "      <td>3853.000000</td>\n",
       "      <td>3853.10000</td>\n",
       "      <td>3851.200000</td>\n",
       "      <td>3852.20000</td>\n",
       "      <td>6.385190</td>\n",
       "      <td>2019-01-01 16:03:00+08:00</td>\n",
       "    </tr>\n",
       "    <tr>\n",
       "      <th>2019-01-01 16:04:00+08:00</th>\n",
       "      <td>3852.200000</td>\n",
       "      <td>3852.30000</td>\n",
       "      <td>3852.200000</td>\n",
       "      <td>3852.30000</td>\n",
       "      <td>0.504622</td>\n",
       "      <td>2019-01-01 16:04:00+08:00</td>\n",
       "    </tr>\n",
       "    <tr>\n",
       "      <th>...</th>\n",
       "      <td>...</td>\n",
       "      <td>...</td>\n",
       "      <td>...</td>\n",
       "      <td>...</td>\n",
       "      <td>...</td>\n",
       "      <td>...</td>\n",
       "    </tr>\n",
       "    <tr>\n",
       "      <th>2020-12-07 15:55:00+08:00</th>\n",
       "      <td>19398.841056</td>\n",
       "      <td>19402.00000</td>\n",
       "      <td>19398.841056</td>\n",
       "      <td>19402.00000</td>\n",
       "      <td>8.340088</td>\n",
       "      <td>2020-12-07 15:55:00+08:00</td>\n",
       "    </tr>\n",
       "    <tr>\n",
       "      <th>2020-12-07 15:56:00+08:00</th>\n",
       "      <td>19402.690321</td>\n",
       "      <td>19418.62931</td>\n",
       "      <td>19402.690321</td>\n",
       "      <td>19418.62931</td>\n",
       "      <td>2.047179</td>\n",
       "      <td>2020-12-07 15:56:00+08:00</td>\n",
       "    </tr>\n",
       "    <tr>\n",
       "      <th>2020-12-07 15:57:00+08:00</th>\n",
       "      <td>19412.000000</td>\n",
       "      <td>19419.00000</td>\n",
       "      <td>19412.000000</td>\n",
       "      <td>19419.00000</td>\n",
       "      <td>0.153671</td>\n",
       "      <td>2020-12-07 15:57:00+08:00</td>\n",
       "    </tr>\n",
       "    <tr>\n",
       "      <th>2020-12-07 15:58:00+08:00</th>\n",
       "      <td>19410.000000</td>\n",
       "      <td>19414.00000</td>\n",
       "      <td>19410.000000</td>\n",
       "      <td>19414.00000</td>\n",
       "      <td>0.633814</td>\n",
       "      <td>2020-12-07 15:58:00+08:00</td>\n",
       "    </tr>\n",
       "    <tr>\n",
       "      <th>2020-12-07 15:59:00+08:00</th>\n",
       "      <td>19413.779503</td>\n",
       "      <td>19414.00000</td>\n",
       "      <td>19404.000000</td>\n",
       "      <td>19405.00000</td>\n",
       "      <td>2.242484</td>\n",
       "      <td>2020-12-07 15:59:00+08:00</td>\n",
       "    </tr>\n",
       "  </tbody>\n",
       "</table>\n",
       "<p>988483 rows × 6 columns</p>\n",
       "</div>"
      ],
      "text/plain": [
       "                                   open         high           low  \\\n",
       "2019-01-01 16:00:00+08:00   3850.000000   3850.00000   3849.600000   \n",
       "2019-01-01 16:01:00+08:00   3849.500000   3853.00000   3849.400000   \n",
       "2019-01-01 16:02:00+08:00   3853.000000   3857.00000   3852.960000   \n",
       "2019-01-01 16:03:00+08:00   3853.000000   3853.10000   3851.200000   \n",
       "2019-01-01 16:04:00+08:00   3852.200000   3852.30000   3852.200000   \n",
       "...                                 ...          ...           ...   \n",
       "2020-12-07 15:55:00+08:00  19398.841056  19402.00000  19398.841056   \n",
       "2020-12-07 15:56:00+08:00  19402.690321  19418.62931  19402.690321   \n",
       "2020-12-07 15:57:00+08:00  19412.000000  19419.00000  19412.000000   \n",
       "2020-12-07 15:58:00+08:00  19410.000000  19414.00000  19410.000000   \n",
       "2020-12-07 15:59:00+08:00  19413.779503  19414.00000  19404.000000   \n",
       "\n",
       "                                 close    volume                 timestamp  \n",
       "2019-01-01 16:00:00+08:00   3849.60000  0.443293 2019-01-01 16:00:00+08:00  \n",
       "2019-01-01 16:01:00+08:00   3853.00000  9.085920 2019-01-01 16:01:00+08:00  \n",
       "2019-01-01 16:02:00+08:00   3853.20000  8.213360 2019-01-01 16:02:00+08:00  \n",
       "2019-01-01 16:03:00+08:00   3852.20000  6.385190 2019-01-01 16:03:00+08:00  \n",
       "2019-01-01 16:04:00+08:00   3852.30000  0.504622 2019-01-01 16:04:00+08:00  \n",
       "...                                ...       ...                       ...  \n",
       "2020-12-07 15:55:00+08:00  19402.00000  8.340088 2020-12-07 15:55:00+08:00  \n",
       "2020-12-07 15:56:00+08:00  19418.62931  2.047179 2020-12-07 15:56:00+08:00  \n",
       "2020-12-07 15:57:00+08:00  19419.00000  0.153671 2020-12-07 15:57:00+08:00  \n",
       "2020-12-07 15:58:00+08:00  19414.00000  0.633814 2020-12-07 15:58:00+08:00  \n",
       "2020-12-07 15:59:00+08:00  19405.00000  2.242484 2020-12-07 15:59:00+08:00  \n",
       "\n",
       "[988483 rows x 6 columns]"
      ]
     },
     "execution_count": 6,
     "metadata": {},
     "output_type": "execute_result"
    }
   ],
   "source": [
    "data"
   ]
  },
  {
   "cell_type": "code",
   "execution_count": 7,
   "metadata": {},
   "outputs": [],
   "source": [
    "# Prepare features\n",
    "import talib\n",
    "\n",
    "# Moving averages\n",
    "data['ma5m'] = talib.MA(data['close'], timeperiod = 5) / data['close'] \n",
    "data['ma10m'] = talib.MA(data['close'], timeperiod = 10) / data['close'] \n",
    "data['ma1h'] = talib.MA(data['close'], timeperiod = 60) / data['close'] \n",
    "data['ma4h'] = talib.MA(data['close'], timeperiod = 240) / data['close'] \n",
    "data['ma12h'] = talib.MA(data['close'], timeperiod = 720) / data['close'] \n",
    "data['ma1d'] = talib.MA(data['close'], timeperiod = 1440) / data['close']\n",
    "data['ma5d'] = talib.MA(data['close'], timeperiod = 7200) / data['close'] \n",
    "data['ma10d'] = talib.MA(data['close'], timeperiod = 14400) / data['close'] \n",
    "data['ma30d'] = talib.MA(data['close'], timeperiod = 43200) / data['close'] \n",
    "\n",
    "# Standard deviation\n",
    "data['std5m'] = talib.STDDEV(data['close'], timeperiod=5)/ data['close'] \n",
    "data['std10m'] = talib.STDDEV(data['close'], timeperiod = 10) / data['close'] \n",
    "data['std1h'] = talib.STDDEV(data['close'], timeperiod = 60) / data['close'] \n",
    "data['std4h'] = talib.STDDEV(data['close'], timeperiod = 240) / data['close'] \n",
    "data['std12h'] = talib.STDDEV(data['close'], timeperiod = 720) / data['close'] \n",
    "data['std1d'] = talib.STDDEV(data['close'], timeperiod = 1440) / data['close']\n",
    "data['std5d'] = talib.STDDEV(data['close'], timeperiod = 7200) / data['close'] \n",
    "data['std10d'] = talib.STDDEV(data['close'], timeperiod = 14400) / data['close'] \n",
    "data['std30d'] = talib.STDDEV(data['close'], timeperiod = 43200) / data['close'] \n",
    "\n",
    "# Closeness to hundred / thousand\n",
    "data['dis100'] = (data['close'] % 100) / 100 \n",
    "data['dis1000'] = (data['close'] % 1000) / 1000 "
   ]
  },
  {
   "cell_type": "code",
   "execution_count": 8,
   "metadata": {},
   "outputs": [],
   "source": [
    "feature_set = ['ma5m','ma10m','ma1h','ma4h','ma12h','ma1d','ma5d','ma10d','ma30d', \\\n",
    "               'std5m','std10m','std1h','std4h','std12h','std1d','std5d','std10d','std30d',\\\n",
    "               'dis100', 'dis1000']"
   ]
  },
  {
   "cell_type": "markdown",
   "metadata": {},
   "source": [
    "## Augment with same features in previous timestamps"
   ]
  },
  {
   "cell_type": "code",
   "execution_count": 9,
   "metadata": {},
   "outputs": [],
   "source": [
    "new_feature_set = []\n",
    "for feature in feature_set:\n",
    "    data[f'{feature}_p1h'] = data[feature].shift(60)\n",
    "    data[f'{feature}_p1d'] = data[feature].shift(1440)\n",
    "    data[f'{feature}_p5d'] = data[feature].shift(7200)\n",
    "    new_feature_set += [feature, f'{feature}_p1h', f'{feature}_p1d', f'{feature}_p5d']\n",
    "feature_set = new_feature_set"
   ]
  },
  {
   "cell_type": "code",
   "execution_count": 10,
   "metadata": {},
   "outputs": [
    {
     "name": "stdout",
     "output_type": "stream",
     "text": [
      "Total feature number 80\n"
     ]
    }
   ],
   "source": [
    "print(f'Total feature number {len(feature_set)}')"
   ]
  },
  {
   "cell_type": "markdown",
   "metadata": {},
   "source": [
    "## Show distribution of return in 1d "
   ]
  },
  {
   "cell_type": "code",
   "execution_count": 11,
   "metadata": {},
   "outputs": [
    {
     "name": "stderr",
     "output_type": "stream",
     "text": [
      "C:\\Users\\Yuan\\anaconda3\\lib\\site-packages\\numpy\\lib\\histograms.py:839: RuntimeWarning: invalid value encountered in greater_equal\n",
      "  keep = (tmp_a >= first_edge)\n",
      "C:\\Users\\Yuan\\anaconda3\\lib\\site-packages\\numpy\\lib\\histograms.py:840: RuntimeWarning: invalid value encountered in less_equal\n",
      "  keep &= (tmp_a <= last_edge)\n"
     ]
    },
    {
     "data": {
      "text/plain": [
       "(array([9.00000e+00, 5.60000e+01, 3.20000e+02, 1.95000e+02, 5.63000e+02,\n",
       "        1.26600e+03, 3.88500e+03, 5.76200e+03, 1.46120e+04, 4.65010e+04,\n",
       "        1.37749e+05, 3.97512e+05, 2.54872e+05, 7.25690e+04, 2.87060e+04,\n",
       "        9.17900e+03, 6.52600e+03, 3.46900e+03, 1.22700e+03, 2.61000e+02,\n",
       "        2.04000e+02, 1.23000e+02, 1.93000e+02, 2.68000e+02, 1.59000e+02,\n",
       "        1.02000e+02, 9.70000e+01, 9.90000e+01, 6.60000e+01, 6.70000e+01,\n",
       "        4.30000e+01, 8.80000e+01, 5.00000e+01, 3.00000e+01, 2.20000e+01,\n",
       "        1.20000e+01, 1.00000e+01, 4.10000e+01, 4.10000e+01, 4.00000e+01,\n",
       "        1.10000e+01, 3.00000e+00, 2.00000e+00, 4.00000e+00, 1.20000e+01,\n",
       "        9.00000e+00, 3.00000e+00, 1.00000e+00, 3.00000e+00, 1.00000e+00]),\n",
       " array([-0.28686676, -0.26269117, -0.23851558, -0.21433999, -0.19016441,\n",
       "        -0.16598882, -0.14181323, -0.11763764, -0.09346206, -0.06928647,\n",
       "        -0.04511088, -0.0209353 ,  0.00324029,  0.02741588,  0.05159147,\n",
       "         0.07576705,  0.09994264,  0.12411823,  0.14829381,  0.1724694 ,\n",
       "         0.19664499,  0.22082058,  0.24499616,  0.26917175,  0.29334734,\n",
       "         0.31752293,  0.34169851,  0.3658741 ,  0.39004969,  0.41422527,\n",
       "         0.43840086,  0.46257645,  0.48675204,  0.51092762,  0.53510321,\n",
       "         0.5592788 ,  0.58345439,  0.60762997,  0.63180556,  0.65598115,\n",
       "         0.68015673,  0.70433232,  0.72850791,  0.7526835 ,  0.77685908,\n",
       "         0.80103467,  0.82521026,  0.84938585,  0.87356143,  0.89773702,\n",
       "         0.92191261]),\n",
       " <a list of 50 Patch objects>)"
      ]
     },
     "execution_count": 11,
     "metadata": {},
     "output_type": "execute_result"
    },
    {
     "data": {
      "image/png": "[encoded data removed]",
      "text/plain": [
       "<Figure size 432x288 with 1 Axes>"
      ]
     },
     "metadata": {
      "needs_background": "light"
     },
     "output_type": "display_data"
    }
   ],
   "source": [
    "plt.hist(data['close'] / data['close'].shift(-1440) - 1,bins=50)"
   ]
  },
  {
   "cell_type": "code",
   "execution_count": 12,
   "metadata": {},
   "outputs": [],
   "source": [
    "data['up_x%_in_1d_label'] = 100 * (data['close'] / data['close'].shift(-60) - 1)"
   ]
  },
  {
   "cell_type": "code",
   "execution_count": 13,
   "metadata": {},
   "outputs": [],
   "source": [
    "data=data.dropna()"
   ]
  },
  {
   "cell_type": "markdown",
   "metadata": {},
   "source": [
    "## Data Preparation"
   ]
  },
  {
   "cell_type": "code",
   "execution_count": 14,
   "metadata": {},
   "outputs": [],
   "source": [
    "train_start_time = pd.Timestamp('2019-01-01', tz=TZ)\n",
    "train_end_time = pd.Timestamp('2020-4-1', tz=TZ)\n",
    "val_start_time = pd.Timestamp('2020-4-1', tz=TZ)\n",
    "val_end_time = pd.Timestamp('2020-08-01', tz=TZ)\n",
    "test_start_time = pd.Timestamp('2020-08-01', tz=TZ)\n",
    "test_end_time = pd.Timestamp('2020-12-31', tz=TZ)\n",
    "\n",
    "train_data = data.loc[train_start_time:train_end_time]\n",
    "val_data = data.loc[val_start_time:val_end_time]\n",
    "test_data = data.loc[test_start_time:test_end_time]"
   ]
  },
  {
   "cell_type": "markdown",
   "metadata": {},
   "source": [
    "## Discritize continuous features"
   ]
  },
  {
   "cell_type": "code",
   "execution_count": 15,
   "metadata": {},
   "outputs": [],
   "source": [
    "X_train = train_data[feature_set].values.squeeze().astype(np.float32)\n",
    "X_val = val_data[feature_set].values.squeeze().astype(np.float32)\n",
    "X_test = test_data[feature_set].values.squeeze().astype(np.float32)"
   ]
  },
  {
   "cell_type": "code",
   "execution_count": 16,
   "metadata": {},
   "outputs": [],
   "source": [
    "from sklearn.preprocessing import KBinsDiscretizer"
   ]
  },
  {
   "cell_type": "code",
   "execution_count": 17,
   "metadata": {},
   "outputs": [
    {
     "data": {
      "text/plain": [
       "KBinsDiscretizer(encode='ordinal', strategy='uniform')"
      ]
     },
     "execution_count": 17,
     "metadata": {},
     "output_type": "execute_result"
    }
   ],
   "source": [
    "est = KBinsDiscretizer(n_bins=5, encode='ordinal', strategy='uniform')\n",
    "est.fit(X_train)"
   ]
  },
  {
   "cell_type": "code",
   "execution_count": 18,
   "metadata": {},
   "outputs": [],
   "source": [
    "X_train = est.transform(X_train)\n",
    "X_val = est.transform(X_val)\n",
    "X_test = est.transform(X_test)"
   ]
  },
  {
   "cell_type": "markdown",
   "metadata": {},
   "source": [
    "## Construct labels"
   ]
  },
  {
   "cell_type": "code",
   "execution_count": 19,
   "metadata": {},
   "outputs": [],
   "source": [
    "label = ['up_x%_in_1d_label']\n",
    "\n",
    "positive_threshold = 1\n",
    "\n",
    "#Train\n",
    "y_train = (train_data[label].values > positive_threshold).astype(int)\n",
    "y_train_soft = np.zeros((len(y_train),2))\n",
    "y_train_soft[:,1] = np.clip(1 + train_data[label].values.squeeze() - positive_threshold, 0, 1)\n",
    "y_train_soft[:,0] = 1 - y_train_soft[:,1]\n",
    "\n",
    "#Val\n",
    "y_val = (val_data[label].values > positive_threshold).astype(int)\n",
    "y_val_soft = np.zeros((len(y_val),2))\n",
    "y_val_soft[:,1] = np.clip(1 + val_data[label].values.squeeze() - positive_threshold, 0, 1)\n",
    "y_val_soft[:,0] = 1 - y_val_soft[:,1]\n",
    "\n",
    "#Test\n",
    "y_test = (test_data[label].values > positive_threshold).astype(int)\n",
    "y_test_soft = np.zeros((len(y_test),2))\n",
    "y_test_soft[:,1] = np.clip(0.5 + (test_data[label].values.squeeze()-positive_threshold), 0, 1)\n",
    "y_test_soft[:,0] = 1 - y_test_soft[:,1]"
   ]
  },
  {
   "cell_type": "code",
   "execution_count": 20,
   "metadata": {},
   "outputs": [
    {
     "name": "stdout",
     "output_type": "stream",
     "text": [
      "Positive ratio in train set: 0.04893900042177017\n",
      "Positive ratio in val set: 0.032178778740390816\n",
      "Positive ratio in test set: 0.032124593728161156\n"
     ]
    }
   ],
   "source": [
    "print(f'Positive ratio in train set: {np.sum(y_train) / y_train.size}')\n",
    "print(f'Positive ratio in val set: {np.sum(y_val) / y_val.size}')\n",
    "print(f'Positive ratio in test set: {np.sum(y_test) / y_test.size}')"
   ]
  },
  {
   "cell_type": "markdown",
   "metadata": {},
   "source": [
    "### Initialize Sample Reweighting & Feature Selection"
   ]
  },
  {
   "cell_type": "code",
   "execution_count": 21,
   "metadata": {},
   "outputs": [],
   "source": [
    "# For reading, visualizing, and preprocessing data\n",
    "import numpy as np\n",
    "import pandas as pd\n",
    "import seaborn as sns\n",
    "import matplotlib.pyplot as plt\n",
    "from sklearn.datasets import make_classification\n",
    "from sklearn.feature_selection import RFE, RFECV\n",
    "from sklearn.model_selection import train_test_split, GridSearchCV, KFold\n",
    "from sklearn.pipeline import Pipeline\n",
    "from sklearn import metrics\n",
    "from sklearn.pipeline import Pipeline, FeatureUnion\n",
    "from sklearn.pipeline import make_pipeline\n",
    "from sklearn.preprocessing import StandardScaler\n",
    "import matplotlib.pyplot as plt\n",
    "from sklearn import datasets\n",
    "from sklearn.ensemble import GradientBoostingClassifier"
   ]
  },
  {
   "cell_type": "code",
   "execution_count": 22,
   "metadata": {},
   "outputs": [],
   "source": [
    "from sample_reweight import SampleReweight\n",
    "from featureSelection import featureSelection"
   ]
  },
  {
   "cell_type": "code",
   "execution_count": 23,
   "metadata": {},
   "outputs": [],
   "source": [
    "LIMITED_SAMPLE = False # for debug only\n",
    "EXAMPLES = 40000 if LIMITED_SAMPLE else X_train.shape[0]\n",
    "\n",
    "# number of submodels\n",
    "K = 5\n",
    "\n",
    "# initialize sample weights and parameters\n",
    "w = np.ones(X_train.shape[0])[:EXAMPLES]\n",
    "\n",
    "ALPHA_1 = 1\n",
    "ALPHA_2 = 1\n",
    "NUM_BINS = 10\n",
    "GAMMA = 0.9\n",
    "\n",
    "# initialize feature selection parameters\n",
    "NUM_BINS_FS = 3\n",
    "ratio = [0.8, 0.6, 0.4]\n",
    "feature_selected = np.arange(len(feature_set))"
   ]
  },
  {
   "cell_type": "markdown",
   "metadata": {},
   "source": [
    "### Single model"
   ]
  },
  {
   "cell_type": "code",
   "execution_count": 24,
   "metadata": {},
   "outputs": [
    {
     "data": {
      "text/plain": [
       "GradientBoostingClassifier(random_state=0)"
      ]
     },
     "execution_count": 24,
     "metadata": {},
     "output_type": "execute_result"
    }
   ],
   "source": [
    "model_single = GradientBoostingClassifier(random_state=0)\n",
    "model_single.fit(X_train[:EXAMPLES, feature_selected], y_train[:EXAMPLES].squeeze(), sample_weight=w)"
   ]
  },
  {
   "cell_type": "markdown",
   "metadata": {},
   "source": [
    "### 5 submodels"
   ]
  },
  {
   "cell_type": "code",
   "execution_count": null,
   "metadata": {},
   "outputs": [
    {
     "data": {
      "application/vnd.jupyter.widget-view+json": {
       "model_id": "fc697a9d803048478b59fb41914b1b3f",
       "version_major": 2,
       "version_minor": 0
      },
      "text/plain": [
       "HBox(children=(FloatProgress(value=0.0, max=5.0), HTML(value='')))"
      ]
     },
     "metadata": {},
     "output_type": "display_data"
    }
   ],
   "source": [
    "clfs_5_sub = []\n",
    "\n",
    "for i in tqdm(range(K)):\n",
    "    clfs_5_sub.append(GradientBoostingClassifier(random_state=0))\n",
    "    clfs_5_sub[i].fit(X_train[:EXAMPLES], y_train[:EXAMPLES].squeeze(), sample_weight=w)"
   ]
  },
  {
   "cell_type": "markdown",
   "metadata": {},
   "source": [
    "### +SR"
   ]
  },
  {
   "cell_type": "code",
   "execution_count": null,
   "metadata": {},
   "outputs": [],
   "source": [
    "clfs_SR = []\n",
    "\n",
    "for i in tqdm(range(K)):\n",
    "    clfs_SR.append(GradientBoostingClassifier(random_state=0))\n",
    "    clfs_SR[i].fit(X_train[:EXAMPLES], y_train[:EXAMPLES].squeeze(), sample_weight=w)\n",
    "    \n",
    "    staged_pred = []\n",
    "    \n",
    "    for j, pred in enumerate(clfs_SR[i].staged_predict_proba(X_train[:EXAMPLES])):\n",
    "        staged_pred.append(np.log(pred))\n",
    "    # initialize sample reweighting\n",
    "    SR = SampleReweight(X_train[:EXAMPLES], y_train[:EXAMPLES], a1=ALPHA_1, a2=ALPHA_2, b=NUM_BINS, gamma=GAMMA)\n",
    "    w = SR.reweight(clfs_SR[i], staged_pred)\n",
    "    print(np.max(w))"
   ]
  },
  {
   "cell_type": "markdown",
   "metadata": {},
   "source": [
    "### +SR+FS"
   ]
  },
  {
   "cell_type": "code",
   "execution_count": null,
   "metadata": {},
   "outputs": [],
   "source": [
    "clfs_SR_FS = []\n",
    "\n",
    "list_feature_selected = []\n",
    "list_feature_selected.append(feature_selected.copy())\n",
    "\n",
    "for i in tqdm(range(K)):\n",
    "    clfs_SR_FS.append(GradientBoostingClassifier(random_state=0))\n",
    "    clfs_SR_FS[i].fit(X_train[:EXAMPLES, feature_selected], y_train[:EXAMPLES].squeeze(), sample_weight=w)\n",
    "    \n",
    "    staged_pred = []\n",
    "    \n",
    "    for j, pred in enumerate(clfs_SR_FS[i].staged_predict_proba(X_train[:EXAMPLES, feature_selected])):\n",
    "        staged_pred.append(np.log(pred))\n",
    "    # initialize sample reweighting\n",
    "    SR = SampleReweight(X_train[:EXAMPLES, feature_selected], y_train[:EXAMPLES], a1=ALPHA_1, a2=ALPHA_2, b=NUM_BINS, gamma=GAMMA)\n",
    "    w = SR.reweight(clfs_SR_FS[i], staged_pred)\n",
    "    print(np.max(w))\n",
    "    \n",
    "    #feature selection\n",
    "    feature_selected_index = featureSelection(clfs_SR_FS[i], X_val[:EXAMPLES, feature_selected], y_val[:EXAMPLES], NUM_BINS_FS, ratio)\n",
    "    feature_selected = feature_selected[feature_selected_index]\n",
    "    print(feature_selected)\n",
    "    list_feature_selected.append(feature_selected.copy())"
   ]
  },
  {
   "cell_type": "markdown",
   "metadata": {},
   "source": [
    "## Evaluate Model"
   ]
  },
  {
   "cell_type": "code",
   "execution_count": null,
   "metadata": {},
   "outputs": [],
   "source": [
    "from utils import eval_model, plot_roc, get_model_output"
   ]
  },
  {
   "cell_type": "code",
   "execution_count": null,
   "metadata": {},
   "outputs": [],
   "source": [
    "y_score_single = eval_model([model_single], X_test)"
   ]
  },
  {
   "cell_type": "code",
   "execution_count": null,
   "metadata": {},
   "outputs": [],
   "source": [
    "y_score_5_sub = eval_model(clfs_5_sub, X_test)"
   ]
  },
  {
   "cell_type": "code",
   "execution_count": null,
   "metadata": {},
   "outputs": [],
   "source": [
    "y_score_SR = eval_model(clfs_SR, X_test)"
   ]
  },
  {
   "cell_type": "code",
   "execution_count": null,
   "metadata": {},
   "outputs": [],
   "source": [
    "y_score_SR_FS = eval_model(clfs_SR_FS, X_test, feature_selected=list_feature_selected, mode='all')"
   ]
  },
  {
   "cell_type": "code",
   "execution_count": null,
   "metadata": {},
   "outputs": [],
   "source": [
    "plot_roc(y_test, y_score_single)\n",
    "plot_roc(y_test, y_score_5_sub)\n",
    "plot_roc(y_test, y_score_SR)\n",
    "for y_score in y_score_SR_FS:\n",
    "    plot_roc(y_test, y_score)"
   ]
  },
  {
   "cell_type": "code",
   "execution_count": null,
   "metadata": {},
   "outputs": [],
   "source": [
    "plot_roc(y_test, eval_model([clfs_SR_FS[-1]], X_test, feature_selected=[list_feature_selected[-2]], mode='single'))"
   ]
  },
  {
   "cell_type": "code",
   "execution_count": null,
   "metadata": {},
   "outputs": [],
   "source": [
    "y_predict_SR_FS = get_model_output(clfs_SR_FS, X_test, feature_selected=list_feature_selected, mode='all')"
   ]
  },
  {
   "cell_type": "code",
   "execution_count": null,
   "metadata": {},
   "outputs": [],
   "source": [
    "fig,  ax = plt.subplots(2, figsize=(10, 16))\n",
    "correlation_matrix = pd.DataFrame.from_records(X_train[:, list_feature_selected[0][:30]]).corr().round(1)\n",
    "sns.heatmap(correlation_matrix, cmap=\"YlGnBu\", ax=ax[0], annot=True)\n",
    "\n",
    "correlation_matrix = pd.DataFrame.from_records(X_train[:, list_feature_selected[-1]]).corr().round(2)\n",
    "sns.heatmap(correlation_matrix, cmap=\"YlGnBu\", ax=ax[1], annot=True, xticklabels=list_feature_selected[-1], yticklabels=list_feature_selected[-1], )\n"
   ]
  },
  {
   "cell_type": "code",
   "execution_count": null,
   "metadata": {},
   "outputs": [],
   "source": [
    "X_train[np.where(y_train == 1)[0]]"
   ]
  },
  {
   "cell_type": "code",
   "execution_count": null,
   "metadata": {},
   "outputs": [],
   "source": [
    "from pandas.plotting import scatter_matrix\n",
    "df = pd.DataFrame(X_train[np.where(y_train == 1)[0]][:, list_feature_selected[-1]], columns=list_feature_selected[-1])\n",
    "scatter_matrix(df, alpha=0.2, diagonal='kde')"
   ]
  },
  {
   "cell_type": "code",
   "execution_count": null,
   "metadata": {},
   "outputs": [],
   "source": [
    "df = pd.DataFrame(X_train[np.where(y_train == 0)[0]][:, list_feature_selected[-1]], columns=list_feature_selected[-1])\n",
    "scatter_matrix(df, alpha=0.2, diagonal='kde')"
   ]
  },
  {
   "cell_type": "code",
   "execution_count": null,
   "metadata": {},
   "outputs": [],
   "source": [
    "df = pd.DataFrame(X_train[np.where(y_train == 1)[0]][:, :10])\n",
    "scatter_matrix(df, alpha=0.2, diagonal='kde')"
   ]
  },
  {
   "cell_type": "code",
   "execution_count": null,
   "metadata": {},
   "outputs": [],
   "source": [
    "df = pd.DataFrame(X_train[np.where(y_train == 0)[0]][:, :10])\n",
    "scatter_matrix(df, alpha=0.2, diagonal='kde')"
   ]
  },
  {
   "cell_type": "markdown",
   "metadata": {},
   "source": [
    "## baseline +"
   ]
  },
  {
   "cell_type": "code",
   "execution_count": null,
   "metadata": {},
   "outputs": [],
   "source": [
    "from utils import filter_by_corr\n",
    "\n",
    "features = filter_by_corr(X_train)   "
   ]
  },
  {
   "cell_type": "code",
   "execution_count": null,
   "metadata": {},
   "outputs": [],
   "source": [
    "clfs_5_sub_base = []\n",
    "\n",
    "for i in tqdm(range(K)):\n",
    "    clfs_5_sub_base.append(GradientBoostingClassifier())\n",
    "    clfs_5_sub_base[i].fit(X_train[:EXAMPLES, features], y_train[:EXAMPLES].squeeze(), sample_weight=w)"
   ]
  },
  {
   "cell_type": "code",
   "execution_count": null,
   "metadata": {},
   "outputs": [],
   "source": [
    "y_score_base = eval_model(clfs_5_sub_base, X_test, feature_selected=[features] * 5, mode='all')\n",
    "\n",
    "for y_score in y_score_base:\n",
    "    plot_roc(y_test, y_score)"
   ]
  },
  {
   "cell_type": "code",
   "execution_count": null,
   "metadata": {},
   "outputs": [],
   "source": []
  },
  {
   "cell_type": "code",
   "execution_count": null,
   "metadata": {},
   "outputs": [],
   "source": []
  }
 ],
 "metadata": {
  "kernelspec": {
   "display_name": "Python 3",
   "language": "python",
   "name": "python3"
  },
  "language_info": {
   "codemirror_mode": {
    "name": "ipython",
    "version": 3
   },
   "file_extension": ".py",
   "mimetype": "text/x-python",
   "name": "python",
   "nbconvert_exporter": "python",
   "pygments_lexer": "ipython3",
   "version": "3.8.3"
  }
 },
 "nbformat": 4,
 "nbformat_minor": 4
}
